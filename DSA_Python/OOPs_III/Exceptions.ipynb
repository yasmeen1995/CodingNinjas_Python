{
 "cells": [
  {
   "cell_type": "markdown",
   "metadata": {},
   "source": [
    "### Exceptions"
   ]
  },
  {
   "cell_type": "code",
   "execution_count": 2,
   "metadata": {},
   "outputs": [
    {
     "name": "stdout",
     "output_type": "stream",
     "text": [
      "k\n"
     ]
    }
   ],
   "source": [
    "a = 2\n",
    "b = 1\n",
    "res = a/b\n",
    "print('k')"
   ]
  },
  {
   "cell_type": "code",
   "execution_count": 4,
   "metadata": {},
   "outputs": [
    {
     "name": "stdout",
     "output_type": "stream",
     "text": [
      "There is a zero division error\n",
      "Hhhhh\n"
     ]
    }
   ],
   "source": [
    "try:\n",
    "    a = 2\n",
    "    b = 0\n",
    "    res = a/b\n",
    "except ZeroDivisionError as e:\n",
    "    print(\"There is a zero division error\")\n",
    "\n",
    "print(\"Hhhhh\")"
   ]
  },
  {
   "cell_type": "code",
   "execution_count": 7,
   "metadata": {},
   "outputs": [
    {
     "name": "stdout",
     "output_type": "stream",
     "text": [
      "Error:  list index out of range\n",
      "Hello\n"
     ]
    }
   ],
   "source": [
    "try: \n",
    "    a = [1,2,3,0]\n",
    "    r = a[2]/ a[4]\n",
    "except (IndexError, ZeroDivisionError) as e:\n",
    "    print(\"Error: \", e)\n",
    "\n",
    "print(\"Hello\")"
   ]
  },
  {
   "cell_type": "code",
   "execution_count": null,
   "metadata": {},
   "outputs": [],
   "source": []
  },
  {
   "cell_type": "code",
   "execution_count": 9,
   "metadata": {},
   "outputs": [
    {
     "name": "stdout",
     "output_type": "stream",
     "text": [
      "Error:  list index out of range\n",
      "Hello\n"
     ]
    }
   ],
   "source": [
    "try: \n",
    "    a = [1,2,3,0]\n",
    "    r = a[2]/ a[4]\n",
    "except Exception as e:\n",
    "    print(\"Error: \", e)\n",
    "\n",
    "print(\"Hello\")"
   ]
  },
  {
   "cell_type": "code",
   "execution_count": 13,
   "metadata": {},
   "outputs": [
    {
     "name": "stdout",
     "output_type": "stream",
     "text": [
      "division by zero\n"
     ]
    }
   ],
   "source": [
    "try:\n",
    "    a = 10\n",
    "    b = 0\n",
    "    c = a/b\n",
    "    print(c)\n",
    "except ValueError:\n",
    "    print('Exception occured')\n",
    "except ZeroDivisionError:\n",
    "    print('division by zero')"
   ]
  },
  {
   "cell_type": "code",
   "execution_count": null,
   "metadata": {},
   "outputs": [],
   "source": []
  },
  {
   "cell_type": "code",
   "execution_count": 21,
   "metadata": {},
   "outputs": [
    {
     "name": "stdout",
     "output_type": "stream",
     "text": [
      "File Npt Found::  [Errno 2] No such file or directory: 'ex.txt'\n"
     ]
    }
   ],
   "source": [
    "# try:\n",
    "#     f = open(\"ex.txt\")\n",
    "# except (FileNotFoundError, PermissionError) as e:\n",
    "#     print(\"Error:: \", e)\n",
    "\n",
    "\n",
    "try:\n",
    "    f = open(\"ex.txt\")\n",
    "except FileNotFoundError as e:\n",
    "    print(\"File Npt Found:: \", e)\n",
    "except PermissionError as e:\n",
    "    print(\"Error With Permission:: \", e)"
   ]
  },
  {
   "cell_type": "code",
   "execution_count": 27,
   "metadata": {},
   "outputs": [
    {
     "name": "stdout",
     "output_type": "stream",
     "text": [
      "Error With FileNotFoundError::  [Errno 2] No such file or directory: 'ex.txt'\n"
     ]
    }
   ],
   "source": [
    "# OSError -- Define at last as it handles all the OS errors. \n",
    "try:\n",
    "    f = open(\"ex.txt\")\n",
    "\n",
    "except FileNotFoundError as e:\n",
    "    print(\"Error With FileNotFoundError:: \", e)\n",
    "\n",
    "except (OSError) as e:\n",
    "    print(\"Error:: \", e)"
   ]
  },
  {
   "cell_type": "code",
   "execution_count": 28,
   "metadata": {},
   "outputs": [
    {
     "name": "stdout",
     "output_type": "stream",
     "text": [
      "Name Error occured\n"
     ]
    }
   ],
   "source": [
    "# Name Error occured\n",
    "try:\n",
    "    a = 10\n",
    "    b = 0\n",
    "    print(d)\n",
    "    c = a/b\n",
    "except NameError:\n",
    "    print('Name Error occured')\n",
    "except ZeroDivisionError:\n",
    "    print('Zero Division Error occured')"
   ]
  },
  {
   "cell_type": "code",
   "execution_count": null,
   "metadata": {},
   "outputs": [],
   "source": []
  },
  {
   "cell_type": "markdown",
   "metadata": {},
   "source": [
    "### Custom Exceptions"
   ]
  },
  {
   "cell_type": "code",
   "execution_count": 31,
   "metadata": {},
   "outputs": [],
   "source": [
    "class CustomZeroDivisionException(Exception):\n",
    "    pass\n",
    "\n",
    "# raise CustomZeroDivisionException(\"Divided by zero observed!\")\n",
    "a, b = 10, 1\n",
    "if b ==0:\n",
    "    raise CustomZeroDivisionException(\"Divided by zero observed!\")\n",
    "r = a/b"
   ]
  },
  {
   "cell_type": "code",
   "execution_count": 34,
   "metadata": {},
   "outputs": [
    {
     "name": "stdout",
     "output_type": "stream",
     "text": [
      "Failed to connect to DB. Host: localhost, Port: 2344 \n"
     ]
    }
   ],
   "source": [
    "class DatabaseConnectionException(Exception):\n",
    "    def __init__(self, message: str, host: str, port: int) -> None:\n",
    "        super().__init__(message)\n",
    "        self.host =host\n",
    "        self.port = port\n",
    "\n",
    "    def __str__(self) -> str:\n",
    "        return f\"{super().__str__()}. Host: {self.host}, Port: {self.port} \"\n",
    "\n",
    "def connect_to_db(host: str, port: int):\n",
    "    raise DatabaseConnectionException(\"Failed to connect to DB\", host, port)\n",
    "\n",
    "try:\n",
    "    connect_to_db(\"localhost\", 2344)  \n",
    "except DatabaseConnectionException as e:\n",
    "    print(e) "
   ]
  },
  {
   "cell_type": "code",
   "execution_count": 47,
   "metadata": {},
   "outputs": [
    {
     "name": "stdout",
     "output_type": "stream",
     "text": [
      "Reahed account limit\n",
      "{'message': 'Reahed account limit', 'account': 10000000000, 'amount': 2000}\n"
     ]
    }
   ],
   "source": [
    "class AccountLimitReachedException(Exception):\n",
    "    def __init__(self, message: str, accountNo: str, amount: int) -> None:\n",
    "        super().__init__(message)\n",
    "        self.accountNo = accountNo\n",
    "        self.amount = amount\n",
    "\n",
    "    def print_error_dict(self):\n",
    "        error_message= super().__str__()\n",
    "        print({\n",
    "            \"message\": error_message,\n",
    "            \"account\": self.accountNo,\n",
    "            \"amount\": self.amount\n",
    "        })\n",
    "    \n",
    "    \n",
    "def withdraw_amount(accNo: str, amount: int):\n",
    "    raise AccountLimitReachedException(\"Reahed account limit\", accNo, amount)\n",
    "\n",
    "try:\n",
    "    withdraw_amount(10000000000, 2000)\n",
    "except AccountLimitReachedException as e:\n",
    "    print(e)\n",
    "    e.print_error_dict()\n"
   ]
  },
  {
   "cell_type": "code",
   "execution_count": null,
   "metadata": {},
   "outputs": [],
   "source": []
  },
  {
   "cell_type": "code",
   "execution_count": 53,
   "metadata": {},
   "outputs": [],
   "source": [
    "# class ZeroDenominatorError(Exception):\n",
    "#     pass\n",
    "\n",
    "# try:\n",
    "#     a = 10\n",
    "#     b = 0\n",
    "#     if(b==0):\n",
    "#         raise ZeroDenominatorError() \n",
    "#     c = a/b\n",
    "    \n",
    "# except ZeroDivisionError:\n",
    "#     print('Zero Division Error occured')"
   ]
  },
  {
   "cell_type": "code",
   "execution_count": 69,
   "metadata": {},
   "outputs": [
    {
     "name": "stdout",
     "output_type": "stream",
     "text": [
      "Zero Division Error occured\n"
     ]
    }
   ],
   "source": [
    "class ZeroDenominatorError(ZeroDivisionError):\n",
    "    pass\n",
    "\n",
    "try:\n",
    "    a = 10\n",
    "    b = 0\n",
    "    if(b==0):\n",
    "        raise ZeroDenominatorError()\n",
    "    c = a/b\n",
    "except ZeroDivisionError:\n",
    "    print('Zero Division Error occured')\n",
    "except ZeroDenominatorError:\n",
    "    print('Zero Denominator Error occured')"
   ]
  },
  {
   "cell_type": "code",
   "execution_count": null,
   "metadata": {},
   "outputs": [],
   "source": []
  },
  {
   "cell_type": "markdown",
   "metadata": {},
   "source": [
    "### Else and Finally"
   ]
  },
  {
   "cell_type": "code",
   "execution_count": 68,
   "metadata": {},
   "outputs": [
    {
     "name": "stdout",
     "output_type": "stream",
     "text": [
      "Division by zero\n",
      "Runs any ways\n",
      "-1\n"
     ]
    }
   ],
   "source": [
    "def f(a):\n",
    "    try:\n",
    "        res = 10/a\n",
    "    except ZeroDivisionError as e:\n",
    "        print(\"Division by zero\")\n",
    "        return -1\n",
    "    else:\n",
    "        print(\"Inside else block\")\n",
    "        return res + 10\n",
    "    finally:\n",
    "        print('Runs any ways')\n",
    "\n",
    "print(f(0))\n",
    "\n"
   ]
  },
  {
   "cell_type": "code",
   "execution_count": null,
   "metadata": {},
   "outputs": [],
   "source": []
  },
  {
   "cell_type": "code",
   "execution_count": 63,
   "metadata": {},
   "outputs": [
    {
     "name": "stdout",
     "output_type": "stream",
     "text": [
      "Zero Division Error occured "
     ]
    }
   ],
   "source": [
    "class ZeroDenominatorError(ZeroDivisionError):\n",
    "    pass\n",
    "\n",
    "try:\n",
    "    a = 10\n",
    "    b = 0\n",
    "    if(b==0):\n",
    "        raise ZeroDenominatorError()\n",
    "    c = a/b\n",
    "except ZeroDivisionError:\n",
    "    print('Zero Division Error occured',end= ' ')\n",
    "except ZeroDenominatorError:\n",
    "    print('Zero Denominator Error occured',end = ' ')\n",
    "else:\n",
    "    print('else works')"
   ]
  },
  {
   "cell_type": "code",
   "execution_count": 64,
   "metadata": {},
   "outputs": [
    {
     "name": "stdout",
     "output_type": "stream",
     "text": [
      "else works\n"
     ]
    }
   ],
   "source": [
    "class ZeroDenominatorError(ZeroDivisionError):\n",
    "    pass\n",
    "try:\n",
    "    a = 10\n",
    "    b = 5\n",
    "    if(b==0):\n",
    "        raise ZeroDenominatorError()\n",
    "    c = a/b\n",
    "except ZeroDivisionError:\n",
    "    print('Zero Division Error occured',end= ' ')\n",
    "except ZeroDenominatorError:\n",
    "    print('Zero Denominator Error occured',end = ' ')\n",
    "else:\n",
    "    print('else works')"
   ]
  }
 ],
 "metadata": {
  "kernelspec": {
   "display_name": "Python 3",
   "language": "python",
   "name": "python3"
  },
  "language_info": {
   "codemirror_mode": {
    "name": "ipython",
    "version": 3
   },
   "file_extension": ".py",
   "mimetype": "text/x-python",
   "name": "python",
   "nbconvert_exporter": "python",
   "pygments_lexer": "ipython3",
   "version": "3.9.6"
  }
 },
 "nbformat": 4,
 "nbformat_minor": 2
}
