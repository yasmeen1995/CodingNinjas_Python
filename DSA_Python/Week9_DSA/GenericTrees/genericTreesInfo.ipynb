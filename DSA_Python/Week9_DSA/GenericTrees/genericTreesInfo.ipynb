{
 "cells": [
  {
   "cell_type": "code",
   "execution_count": 25,
   "metadata": {},
   "outputs": [],
   "source": [
    "class TreeNode:\n",
    "    def __init__(self, data):\n",
    "        self.data = data\n",
    "        self.children = list()"
   ]
  },
  {
   "cell_type": "code",
   "execution_count": 26,
   "metadata": {},
   "outputs": [],
   "source": [
    "def printTree(root):\n",
    "    # Not a base case, it is a Edge case\n",
    "    if root is None:\n",
    "        return\n",
    "\n",
    "    print(root.data)\n",
    "    for child in root.children:\n",
    "        printTree(child)"
   ]
  },
  {
   "cell_type": "code",
   "execution_count": 27,
   "metadata": {},
   "outputs": [],
   "source": [
    "def printTreeDetailed(root):\n",
    "    # Not a base case, it is a Edge case\n",
    "    if root is None:\n",
    "        return\n",
    "\n",
    "    print(root.data, \":\", end = \"\")\n",
    "    for child in root.children:\n",
    "        print(child.data, \",\", end=\"\")\n",
    "    print()\n",
    "    \n",
    "    for child in root.children:\n",
    "        printTreeDetailed(child)\n",
    "\n"
   ]
  },
  {
   "cell_type": "code",
   "execution_count": 28,
   "metadata": {},
   "outputs": [
    {
     "name": "stdout",
     "output_type": "stream",
     "text": [
      "5 :2 ,9 ,8 ,7 ,\n",
      "2 :\n",
      "9 :15 ,1 ,\n",
      "15 :\n",
      "1 :\n",
      "8 :\n",
      "7 :\n"
     ]
    }
   ],
   "source": [
    "n1 = TreeNode(5)\n",
    "n2 = TreeNode(2)\n",
    "n3 = TreeNode(9)\n",
    "n4 = TreeNode(8)\n",
    "n5 = TreeNode(7)\n",
    "n6 = TreeNode(15)\n",
    "n7 = TreeNode(1)\n",
    "\n",
    "n1.children.append(n2)\n",
    "n1.children.append(n3)\n",
    "n1.children.append(n4)\n",
    "n1.children.append(n5)\n",
    "\n",
    "n3.children.append(n6)\n",
    "n3.children.append(n7)\n",
    "\n",
    "printTreeDetailed(n1)\n"
   ]
  },
  {
   "cell_type": "markdown",
   "metadata": {},
   "source": [
    "### Taking input"
   ]
  },
  {
   "cell_type": "code",
   "execution_count": 29,
   "metadata": {},
   "outputs": [],
   "source": [
    "def takeTreeInput():\n",
    "    print(\"Enter root data\")\n",
    "    rootData = int(input())\n",
    "    # \n",
    "    if rootData == -1:\n",
    "        return None\n",
    "\n",
    "    root = TreeNode(rootData)\n",
    "\n",
    "    print(\"Enter no.of children for \", rootData)\n",
    "    childrenCount = int(input())\n",
    "    for i in range(childrenCount):\n",
    "        child = takeTreeInput()\n",
    "        root.children.append(child)\n",
    "\n",
    "    return root"
   ]
  },
  {
   "cell_type": "code",
   "execution_count": 30,
   "metadata": {},
   "outputs": [
    {
     "name": "stdout",
     "output_type": "stream",
     "text": [
      "Enter root data\n",
      "Enter no.of children for  0\n",
      "0 :\n"
     ]
    }
   ],
   "source": [
    "root = takeTreeInput()\n",
    "printTreeDetailed(root)\n",
    "\n",
    "# Input:\n",
    "# 5\n",
    "# 4\n",
    "# 2\n",
    "# 0\n",
    "# 9\n",
    "# 2\n",
    "# 15\n",
    "# 0\n",
    "# 1\n",
    "# 0\n",
    "# 8\n",
    "# 0\n",
    "# 7\n",
    "# 0"
   ]
  },
  {
   "cell_type": "markdown",
   "metadata": {},
   "source": [
    "### No.of Nodes in Generic Tree"
   ]
  },
  {
   "cell_type": "code",
   "execution_count": 31,
   "metadata": {},
   "outputs": [],
   "source": [
    "def numNodes(root):\n",
    "    if root == None:\n",
    "        return 0\n",
    "\n",
    "    count = 1\n",
    "    for child in root.children:\n",
    "        count = count + numNodes(child)\n",
    "    return count"
   ]
  },
  {
   "cell_type": "code",
   "execution_count": 32,
   "metadata": {},
   "outputs": [
    {
     "name": "stdout",
     "output_type": "stream",
     "text": [
      "Enter root data\n",
      "Enter no.of children for  0\n",
      "0 :\n",
      "1\n"
     ]
    }
   ],
   "source": [
    "root = takeTreeInput()\n",
    "printTreeDetailed(root)\n",
    "print(numNodes(root))"
   ]
  },
  {
   "cell_type": "code",
   "execution_count": null,
   "metadata": {},
   "outputs": [],
   "source": []
  },
  {
   "cell_type": "markdown",
   "metadata": {},
   "source": [
    "### Tree Input Levelwise"
   ]
  },
  {
   "cell_type": "code",
   "execution_count": 37,
   "metadata": {},
   "outputs": [],
   "source": [
    "import queue\n",
    "def takeTreeInputLevelWise():\n",
    "    q = queue.Queue()\n",
    "    print(\"Enter root\")\n",
    "    rootData = int(input())\n",
    "    # Edge Case\n",
    "    if rootData == -1:\n",
    "        return None\n",
    "\n",
    "    root = TreeNode(rootData)\n",
    "    q.put(root)\n",
    "    while not(q.empty()):\n",
    "        current_node = q.get()\n",
    "        print(\"Enter num of children for \", current_node.data)\n",
    "        numChildren = int(input())\n",
    "        for i in range(numChildren):\n",
    "            print(\"Enter next child for \", current_node.data)\n",
    "            childData = int(input())\n",
    "            childNode = TreeNode(childData)\n",
    "            current_node.children.append(childNode) \n",
    "            q.put(childNode)\n",
    "            \n",
    "    return root"
   ]
  },
  {
   "cell_type": "code",
   "execution_count": 39,
   "metadata": {},
   "outputs": [
    {
     "name": "stdout",
     "output_type": "stream",
     "text": [
      "Enter root\n",
      "Enter num of children for  1\n",
      "Enter next child for  1\n",
      "Enter next child for  1\n",
      "Enter next child for  1\n",
      "Enter num of children for  2\n",
      "Enter num of children for  3\n",
      "Enter next child for  3\n",
      "Enter next child for  3\n",
      "Enter num of children for  4\n",
      "Enter num of children for  5\n",
      "Enter num of children for  6\n",
      "Enter next child for  6\n",
      "Enter next child for  6\n",
      "Enter next child for  6\n",
      "Enter num of children for  7\n",
      "Enter num of children for  8\n",
      "Enter num of children for  9\n",
      "1 :2 ,3 ,4 ,\n",
      "2 :\n",
      "3 :5 ,6 ,\n",
      "5 :\n",
      "6 :7 ,8 ,9 ,\n",
      "7 :\n",
      "8 :\n",
      "9 :\n",
      "4 :\n",
      "9\n"
     ]
    }
   ],
   "source": [
    "root = takeTreeInputLevelWise()\n",
    "printTreeDetailed(root)\n",
    "print(numNodes(root))"
   ]
  },
  {
   "cell_type": "code",
   "execution_count": null,
   "metadata": {},
   "outputs": [],
   "source": []
  }
 ],
 "metadata": {
  "kernelspec": {
   "display_name": "Python 3",
   "language": "python",
   "name": "python3"
  },
  "language_info": {
   "codemirror_mode": {
    "name": "ipython",
    "version": 3
   },
   "file_extension": ".py",
   "mimetype": "text/x-python",
   "name": "python",
   "nbconvert_exporter": "python",
   "pygments_lexer": "ipython3",
   "version": "3.9.6"
  }
 },
 "nbformat": 4,
 "nbformat_minor": 2
}
