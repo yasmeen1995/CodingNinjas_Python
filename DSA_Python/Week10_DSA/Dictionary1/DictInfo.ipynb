{
 "cells": [
  {
   "cell_type": "code",
   "execution_count": 24,
   "metadata": {},
   "outputs": [
    {
     "name": "stdout",
     "output_type": "stream",
     "text": [
      "{'Yash': 99, 'Shah': 98}\n"
     ]
    }
   ],
   "source": [
    "temp_dic = dict({\n",
    "    \"Yash\": 99,\n",
    "    \"Shah\": 98\n",
    "})\n",
    "print(temp_dic)"
   ]
  },
  {
   "cell_type": "code",
   "execution_count": 10,
   "metadata": {},
   "outputs": [
    {
     "name": "stdout",
     "output_type": "stream",
     "text": [
      "{'Yash': 99, 'Shah': 98}\n"
     ]
    }
   ],
   "source": [
    "temp_dic2 = dict([\n",
    "    (\"Yash\", 99),\n",
    "    (\"Shah\", 98)\n",
    "])\n",
    "print(temp_dic2)"
   ]
  },
  {
   "cell_type": "code",
   "execution_count": 11,
   "metadata": {},
   "outputs": [
    {
     "name": "stdout",
     "output_type": "stream",
     "text": [
      "{'Yash': 99, 'Shah': 98}\n"
     ]
    }
   ],
   "source": [
    "temp_dic3 =  {\n",
    "    \"Yash\": 99,\n",
    "    \"Shah\": 98\n",
    "}\n",
    "\n",
    "print(temp_dic3)"
   ]
  },
  {
   "cell_type": "code",
   "execution_count": 12,
   "metadata": {},
   "outputs": [
    {
     "name": "stdout",
     "output_type": "stream",
     "text": [
      "{'Yas': 0, 'Sha': 0, 'Us': 0}\n"
     ]
    }
   ],
   "source": [
    "keys = [\"Yas\", \"Sha\", \"Us\"]\n",
    "temp_dic4 = dict.fromkeys(keys, 0)\n",
    "print(temp_dic4)"
   ]
  },
  {
   "cell_type": "code",
   "execution_count": 22,
   "metadata": {},
   "outputs": [],
   "source": [
    "# temp_dic5 = temp_dic\n",
    "# # Changes to temp_dic5\n",
    "# temp_dic5[\"Shah\"] =77\n",
    "\n",
    "# # Both Dictionarys gets impacted here\n",
    "# print(temp_dic)\n",
    "# print(temp_dic5)"
   ]
  },
  {
   "cell_type": "code",
   "execution_count": 25,
   "metadata": {},
   "outputs": [
    {
     "name": "stdout",
     "output_type": "stream",
     "text": [
      "{'Yash': 99, 'Shah': 98}\n",
      "{'Yash': 99, 'Shah': 77}\n"
     ]
    }
   ],
   "source": [
    "temp_dic6 = temp_dic.copy()\n",
    "# Changes to temp_dic5\n",
    "temp_dic6[\"Shah\"] =77\n",
    "\n",
    "print(temp_dic)\n",
    "print(temp_dic6)"
   ]
  },
  {
   "cell_type": "code",
   "execution_count": 27,
   "metadata": {},
   "outputs": [
    {
     "name": "stdout",
     "output_type": "stream",
     "text": [
      "2\n"
     ]
    }
   ],
   "source": [
    "print(len(temp_dic))"
   ]
  },
  {
   "cell_type": "markdown",
   "metadata": {},
   "source": [
    "### Access Data in Dictionary"
   ]
  },
  {
   "cell_type": "code",
   "execution_count": 39,
   "metadata": {},
   "outputs": [
    {
     "name": "stdout",
     "output_type": "stream",
     "text": [
      "Sam marks: 92\n"
     ]
    }
   ],
   "source": [
    "temp_dic7 = {\n",
    "    \"Sam\": 92,\n",
    "    \"Anni\": 78,\n",
    "    \"Harry\": 89\n",
    "}\n",
    "\n",
    "# print(temp_dic7[\"Sam\"])\n",
    "# print(temp_dic7.get(\"Harry\"))\n",
    "\n",
    "# print(temp_dic7.get(\"XYZ\", 0)) #This get function returns None if key doesnot exist\n",
    "# # print(temp_dic7[\"XYZ\"])  #This returns Error if key doesnot exist\n",
    "\n",
    "key = input(\"Enter student name whose marks you want to get: \")\n",
    "print(key, \"marks:\", temp_dic7.get(key, 0))\n"
   ]
  },
  {
   "cell_type": "markdown",
   "metadata": {},
   "source": [
    "### Get a list of dictionaries"
   ]
  },
  {
   "cell_type": "code",
   "execution_count": 42,
   "metadata": {},
   "outputs": [
    {
     "name": "stdout",
     "output_type": "stream",
     "text": [
      "Student: Sam\n",
      "Student: Anni\n",
      "Student: Harry\n"
     ]
    }
   ],
   "source": [
    "keys = temp_dic7.keys()\n",
    "for key in keys:\n",
    "    print(\"Student:\", key)\n"
   ]
  },
  {
   "cell_type": "code",
   "execution_count": 43,
   "metadata": {},
   "outputs": [
    {
     "name": "stdout",
     "output_type": "stream",
     "text": [
      "dict_values([92, 78, 89])\n"
     ]
    }
   ],
   "source": [
    "print(temp_dic7.values())"
   ]
  },
  {
   "cell_type": "code",
   "execution_count": 44,
   "metadata": {},
   "outputs": [
    {
     "name": "stdout",
     "output_type": "stream",
     "text": [
      "dict_items([('Sam', 92), ('Anni', 78), ('Harry', 89)])\n"
     ]
    }
   ],
   "source": [
    "print(temp_dic7.items())"
   ]
  },
  {
   "cell_type": "code",
   "execution_count": 51,
   "metadata": {},
   "outputs": [
    {
     "name": "stdout",
     "output_type": "stream",
     "text": [
      "Marks of Sam is = 92\n",
      "Marks of Anni is = 78\n",
      "Marks of Harry is = 89\n"
     ]
    }
   ],
   "source": [
    "for key in temp_dic7:\n",
    "    print(\"Marks of \" + key, \"is = \" + str(temp_dic7[key]))"
   ]
  },
  {
   "cell_type": "markdown",
   "metadata": {},
   "source": [
    "### Add/Update Elements from Dict"
   ]
  },
  {
   "cell_type": "code",
   "execution_count": 53,
   "metadata": {},
   "outputs": [
    {
     "name": "stdout",
     "output_type": "stream",
     "text": [
      "{'Sam': 92, 'Jam': 98}\n",
      "dict_keys(['Sam', 'Jam'])\n"
     ]
    }
   ],
   "source": [
    "temp_dic8 = {} # Defining empty dictionary\n",
    "\n",
    "#Using Udate method\n",
    "temp_dic8.update([(\"Sam\", 92), (\"Jam\", 98)])\n",
    "print(temp_dic8)\n",
    "print(temp_dic8.keys())\n"
   ]
  },
  {
   "cell_type": "code",
   "execution_count": 54,
   "metadata": {},
   "outputs": [
    {
     "name": "stdout",
     "output_type": "stream",
     "text": [
      "{'Sam': 95, 'Jam': 98}\n"
     ]
    }
   ],
   "source": [
    "temp_dic8.update([(\"Sam\", 95)])\n",
    "print(temp_dic8)"
   ]
  },
  {
   "cell_type": "code",
   "execution_count": 55,
   "metadata": {},
   "outputs": [
    {
     "name": "stdout",
     "output_type": "stream",
     "text": [
      "{'Sam': 95, 'Jam': 98, 'Harry': 82}\n",
      "{'Sam': 66, 'Jam': 98, 'Harry': 82}\n"
     ]
    }
   ],
   "source": [
    "temp_dic8[\"Harry\"] = 82\n",
    "print(temp_dic8)\n",
    "\n",
    "temp_dic8[\"Sam\"] =66\n",
    "print(temp_dic8)\n",
    "\n"
   ]
  },
  {
   "cell_type": "markdown",
   "metadata": {},
   "source": [
    "### Delete the key -- d.pop(\"Harry)\n"
   ]
  },
  {
   "cell_type": "code",
   "execution_count": 60,
   "metadata": {},
   "outputs": [
    {
     "name": "stdout",
     "output_type": "stream",
     "text": [
      "{'Sam': 66, 'Jam': 98, 'Harry': 82}\n",
      "{'Sam': 66, 'Jam': 98}\n",
      "82\n"
     ]
    }
   ],
   "source": [
    "temp_dic8[\"Harry\"] = 82\n",
    "print(temp_dic8)\n",
    "\n",
    "marks = temp_dic8.pop(\"Harry\")\n",
    "print(temp_dic8)\n",
    "print(marks)\n"
   ]
  },
  {
   "cell_type": "markdown",
   "metadata": {},
   "source": [
    "### Delete the key -- Using \"del\" keyword\n"
   ]
  },
  {
   "cell_type": "code",
   "execution_count": 62,
   "metadata": {},
   "outputs": [
    {
     "name": "stdout",
     "output_type": "stream",
     "text": [
      "{'Sam': 66, 'Jam': 98, 'Harry': 82}\n",
      "{'Sam': 66, 'Jam': 98}\n"
     ]
    }
   ],
   "source": [
    "temp_dic8[\"Harry\"] = 82\n",
    "print(temp_dic8)\n",
    "\n",
    "del(temp_dic8[\"Harry\"])\n",
    "print(temp_dic8)\n"
   ]
  },
  {
   "cell_type": "markdown",
   "metadata": {},
   "source": [
    "### Clear the dic"
   ]
  },
  {
   "cell_type": "code",
   "execution_count": 67,
   "metadata": {},
   "outputs": [
    {
     "name": "stdout",
     "output_type": "stream",
     "text": [
      "{'Sam': 92, 'Jam': 98, 'Harry': 82}\n",
      "{}\n"
     ]
    }
   ],
   "source": [
    "temp_dic9 = {} # Defining empty dictionary\n",
    "\n",
    "#Using Udate method\n",
    "temp_dic9.update([(\"Sam\", 92), (\"Jam\", 98)])\n",
    "# print(temp_dic8)\n",
    "\n",
    "temp_dic9[\"Harry\"] = 82\n",
    "print(temp_dic9)\n",
    "\n",
    "temp_dic9.clear()\n",
    "print(temp_dic9)\n",
    "\n"
   ]
  },
  {
   "cell_type": "code",
   "execution_count": null,
   "metadata": {},
   "outputs": [],
   "source": []
  },
  {
   "cell_type": "markdown",
   "metadata": {},
   "source": [
    "### Problems"
   ]
  },
  {
   "cell_type": "code",
   "execution_count": 73,
   "metadata": {},
   "outputs": [
    {
     "name": "stdout",
     "output_type": "stream",
     "text": [
      "['cat', 'dog']\n"
     ]
    }
   ],
   "source": [
    "def findW(words, k):\n",
    "    freq = dict()\n",
    "    for word in words:\n",
    "        if not freq.get(word, None):\n",
    "            # freq.update((word, 1))\n",
    "            freq[word] = 1\n",
    "\n",
    "        else:\n",
    "            freq[word] += 1\n",
    "    ans = []\n",
    "    # for word in words:\n",
    "    #     if freq.get(word, 0) >= k:\n",
    "    #         ans.append(word)\n",
    "    for key in freq.keys():\n",
    "        if freq[key] >= k:\n",
    "            ans.append(key)\n",
    "\n",
    "    return ans\n",
    "\n",
    "if __name__ == \"__main__\":\n",
    "    print(findW([\"cat\", \"dog\",\"elephant\", \"cat\", \"tiger\", \"dog\", \"cat\"], 2))\n",
    "\n",
    "\n"
   ]
  },
  {
   "cell_type": "code",
   "execution_count": null,
   "metadata": {},
   "outputs": [],
   "source": []
  },
  {
   "cell_type": "code",
   "execution_count": 3,
   "metadata": {},
   "outputs": [
    {
     "data": {
      "text/plain": [
       "2"
      ]
     },
     "execution_count": 3,
     "metadata": {},
     "output_type": "execute_result"
    }
   ],
   "source": [
    "abs(7 - 9)"
   ]
  },
  {
   "cell_type": "code",
   "execution_count": 18,
   "metadata": {},
   "outputs": [
    {
     "name": "stdout",
     "output_type": "stream",
     "text": [
      "9\n"
     ]
    }
   ],
   "source": [
    "def printPairDiffK(l, k):\n",
    "    #############################\n",
    "    # PLEASE ADD YOUR CODE HERE #\n",
    "    #############################\n",
    "    pairCount = 0\n",
    "    m = {}\n",
    "    for num in l:\n",
    "        if num+k in m:\n",
    "            # print(\"Yashd \", m[num+k])\n",
    "            pairCount += m[num+k]\n",
    "            # print(\"county \", pairCount)\n",
    "        if k != 0 and num-k in m:\n",
    "            # print(\"Yash \", m[num-k])\n",
    "            pairCount += m[num-k]\n",
    "\n",
    "        #Update map:\n",
    "        if num in m:\n",
    "            m[num] += 1\n",
    "        else:\n",
    "            m[num] = 1\n",
    "\n",
    "    # print(m[5])\n",
    "\n",
    "    return pairCount\n",
    "\n",
    "\n",
    "arr = [2, -1, 3, 5, 6, 0, -1, 2, 6]\n",
    "print(printPairDiffK(arr, 3))"
   ]
  },
  {
   "cell_type": "code",
   "execution_count": 36,
   "metadata": {},
   "outputs": [],
   "source": [
    "# from math import *\n",
    "# from collections import *\n",
    "# from sys import *\n",
    "# from os import *\n",
    "\n",
    "# def lengthOfLongestConsecutiveSequence2(arr, n):\n",
    "#     # Write your code here.\n",
    "#     if n == 0:\n",
    "#         return 0\n",
    "#     num_dict = {}\n",
    "#     max_length = 0\n",
    "\n",
    "#     # Mark all elements as not visited initially\n",
    "#     for num in arr:\n",
    "#         num_dict[num] = False\n",
    "\n",
    "#     for num in arr:\n",
    "#         if num_dict[num]:  # Skip if the current element has already been visited\n",
    "#             continue\n",
    "        \n",
    "#         current_num = num\n",
    "#         current_length = 0\n",
    "\n",
    "#         # Increment current_num while it exists in num_dict\n",
    "#         while current_num in num_dict:\n",
    "#             current_num += 1\n",
    "#             current_length += 1\n",
    "\n",
    "#         max_length = max(max_length, current_length)\n",
    "#         num_dict[num] = True  # Mark the starting element as visited\n",
    "\n",
    "#     return max_length"
   ]
  },
  {
   "cell_type": "code",
   "execution_count": 37,
   "metadata": {},
   "outputs": [],
   "source": [
    "# arr= [5, 9, 3, 10, 4, 20, 2]\n",
    "# n = len(arr)\n",
    "# print(lengthOfLongestConsecutiveSequence2(arr, n))"
   ]
  },
  {
   "cell_type": "code",
   "execution_count": null,
   "metadata": {},
   "outputs": [],
   "source": []
  },
  {
   "cell_type": "code",
   "execution_count": 40,
   "metadata": {},
   "outputs": [],
   "source": [
    "from math import *\n",
    "from collections import *\n",
    "from sys import *\n",
    "from os import *\n",
    "\n",
    "def lengthOfLongestConsecutiveSequence(arr, n):\n",
    "    # Write your code here.\n",
    "    if n == 0:\n",
    "        return 0\n",
    "\n",
    "    num_set = set(arr)\n",
    "    print('setArr:: ', num_set)\n",
    "    max_length = 0\n",
    "\n",
    "    for num in num_set:\n",
    "        if num - 1 not in num_set:\n",
    "            current_num = num\n",
    "            print('yash ', current_num)\n",
    "            current_length = 1\n",
    "\n",
    "            while current_num + 1 in num_set:\n",
    "                current_num += 1\n",
    "                current_length += 1\n",
    "            \n",
    "            \n",
    "            max_length = max(max_length, current_length)\n",
    "\n",
    "\n",
    "    return max_length"
   ]
  },
  {
   "cell_type": "code",
   "execution_count": 41,
   "metadata": {},
   "outputs": [
    {
     "name": "stdout",
     "output_type": "stream",
     "text": [
      "setArr::  {2, 3, 4, 5, 9, 10, 20}\n",
      "yash  2\n",
      "yash  9\n",
      "yash  20\n",
      "4\n"
     ]
    }
   ],
   "source": [
    "arr= [5, 9, 3, 10, 4, 20, 2]\n",
    "n = len(arr)\n",
    "print(lengthOfLongestConsecutiveSequence(arr, n))"
   ]
  },
  {
   "cell_type": "code",
   "execution_count": null,
   "metadata": {},
   "outputs": [],
   "source": []
  },
  {
   "cell_type": "code",
   "execution_count": 46,
   "metadata": {},
   "outputs": [
    {
     "name": "stdout",
     "output_type": "stream",
     "text": [
      "abcd\n"
     ]
    }
   ],
   "source": [
    "# Define the set of characters\n",
    "char_set = {'a', 'b', 'c', 'd'}\n",
    "\n",
    "# Convert the set to a sorted list of characters and then join them into a string\n",
    "result = ''.join(sorted(char_set))\n",
    "\n",
    "print(result)  # Output: abcd"
   ]
  }
 ],
 "metadata": {
  "kernelspec": {
   "display_name": "Python 3",
   "language": "python",
   "name": "python3"
  },
  "language_info": {
   "codemirror_mode": {
    "name": "ipython",
    "version": 3
   },
   "file_extension": ".py",
   "mimetype": "text/x-python",
   "name": "python",
   "nbconvert_exporter": "python",
   "pygments_lexer": "ipython3",
   "version": "3.9.6"
  }
 },
 "nbformat": 4,
 "nbformat_minor": 2
}
