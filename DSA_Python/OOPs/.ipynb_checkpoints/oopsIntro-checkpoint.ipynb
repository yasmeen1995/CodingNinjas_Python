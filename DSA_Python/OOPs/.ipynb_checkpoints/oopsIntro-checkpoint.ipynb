{
 "cells": [
  {
   "cell_type": "code",
   "execution_count": 5,
   "metadata": {},
   "outputs": [
    {
     "name": "stdout",
     "output_type": "stream",
     "text": [
      "89.0\n",
      "87.0\n"
     ]
    }
   ],
   "source": [
    "class Student:\n",
    "    def __init__(self) -> None:\n",
    "        self.name = \"\"\n",
    "        self.marks = []\n",
    "        self.address = \"\"\n",
    "        \n",
    "#     Memeber function\n",
    "    def setName(self, name):\n",
    "        self.name = name\n",
    "        \n",
    "    def addMarks(self, marks):\n",
    "        self.marks.append(marks)\n",
    "        \n",
    "    def setAddress(self, address):\n",
    "        self.address = address\n",
    "        \n",
    "    def calculateAvg(self):\n",
    "        tot = 0\n",
    "        for marks in self.marks:\n",
    "            tot += marks\n",
    "        return tot/len(self.marks)\n",
    "    \n",
    "studentA = Student()\n",
    "studentB = Student()\n",
    "\n",
    "studentA.setName(\"yash\")\n",
    "studentA.addMarks(90)\n",
    "studentA.addMarks(88)\n",
    "\n",
    "\n",
    "studentB.setName(\"Shahid\")\n",
    "studentB.addMarks(88)\n",
    "studentB.addMarks(86)\n",
    "\n",
    "print(studentA.calculateAvg())\n",
    "print(studentB.calculateAvg())\n",
    "\n"
   ]
  },
  {
   "cell_type": "code",
   "execution_count": 15,
   "metadata": {},
   "outputs": [
    {
     "name": "stdout",
     "output_type": "stream",
     "text": [
      "4\n",
      "2\n",
      "brakes\n",
      "1\n",
      "1\n",
      "{'num_of_wheels': 4}\n"
     ]
    }
   ],
   "source": [
    "class Vehicle:\n",
    "#     Class Attributes:\n",
    "    stopping_mechanism = \"brakes\"\n",
    "    count = 0\n",
    "    \n",
    "    def __init__(self, num_of_wheels) -> None:\n",
    "        self.num_of_wheels = num_of_wheels\n",
    "        \n",
    "    def print_stopping_mechanism(self):\n",
    "        print(Vehicle.stopping_mechanism)\n",
    "        \n",
    "    def increment_count(self):\n",
    "        Vehicle.count += 1\n",
    "        \n",
    "    def get_count(self):\n",
    "        return Vehicle.count\n",
    "\n",
    "car = Vehicle(4)\n",
    "truck = Vehicle(8)\n",
    "bicycle = Vehicle(2)\n",
    "\n",
    "print(car.num_of_wheels)\n",
    "print(bicycle.num_of_wheels)\n",
    "\n",
    "car.print_stopping_mechanism()\n",
    "\n",
    "car.increment_count()\n",
    "print(car.get_count())\n",
    "print(bicycle.get_count())\n",
    "\n",
    "print(car.__dict__)"
   ]
  },
  {
   "cell_type": "code",
   "execution_count": null,
   "metadata": {},
   "outputs": [],
   "source": []
  },
  {
   "cell_type": "code",
   "execution_count": 29,
   "metadata": {},
   "outputs": [
    {
     "name": "stdout",
     "output_type": "stream",
     "text": [
      "XYS\n"
     ]
    }
   ],
   "source": [
    "class Student:\n",
    "#     A private member is only accessible within the class\n",
    "    __aadhar = ''\n",
    "    def __init__(self, name, marks, aadhar) -> None:\n",
    "        self.name = name\n",
    "        self.marks = marks\n",
    "        self.__aadhar = aadhar\n",
    "        \n",
    "#         YOu should not expose private info like below\n",
    "    def get_aadhar(self):\n",
    "        return self.__aadhar\n",
    "    \n",
    "student1 = Student(\"Shahid\", [99, 89, 96],\"XYS\" )\n",
    "# print(student1.__aadhar)\n",
    "print(student1.get_aadhar())"
   ]
  },
  {
   "cell_type": "code",
   "execution_count": null,
   "metadata": {},
   "outputs": [],
   "source": []
  },
  {
   "cell_type": "code",
   "execution_count": null,
   "metadata": {},
   "outputs": [],
   "source": []
  },
  {
   "cell_type": "code",
   "execution_count": null,
   "metadata": {},
   "outputs": [],
   "source": []
  }
 ],
 "metadata": {
  "kernelspec": {
   "display_name": "Python 3 (ipykernel)",
   "language": "python",
   "name": "python3"
  },
  "language_info": {
   "codemirror_mode": {
    "name": "ipython",
    "version": 3
   },
   "file_extension": ".py",
   "mimetype": "text/x-python",
   "name": "python",
   "nbconvert_exporter": "python",
   "pygments_lexer": "ipython3",
   "version": "3.10.13"
  }
 },
 "nbformat": 4,
 "nbformat_minor": 2
}
