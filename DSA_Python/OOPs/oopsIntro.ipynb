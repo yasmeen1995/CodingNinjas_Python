{
 "cells": [
  {
   "cell_type": "code",
   "execution_count": 1,
   "metadata": {},
   "outputs": [
    {
     "name": "stdout",
     "output_type": "stream",
     "text": [
      "89.0\n",
      "87.0\n"
     ]
    }
   ],
   "source": [
    "class Student:\n",
    "    def __init__(self) -> None:\n",
    "        self.name = \"\"\n",
    "        self.marks = []\n",
    "        self.address = \"\"\n",
    "        \n",
    "#     Memeber function\n",
    "    def setName(self, name):\n",
    "        self.name = name\n",
    "        \n",
    "    def addMarks(self, marks):\n",
    "        self.marks.append(marks)\n",
    "        \n",
    "    def setAddress(self, address):\n",
    "        self.address = address\n",
    "        \n",
    "    def calculateAvg(self):\n",
    "        tot = 0\n",
    "        for marks in self.marks:\n",
    "            tot += marks\n",
    "        return tot/len(self.marks)\n",
    "    \n",
    "studentA = Student()\n",
    "studentB = Student()\n",
    "\n",
    "studentA.setName(\"yash\")\n",
    "studentA.addMarks(90)\n",
    "studentA.addMarks(88)\n",
    "\n",
    "\n",
    "studentB.setName(\"Shahid\")\n",
    "studentB.addMarks(88)\n",
    "studentB.addMarks(86)\n",
    "\n",
    "print(studentA.calculateAvg())\n",
    "print(studentB.calculateAvg())\n",
    "\n"
   ]
  },
  {
   "cell_type": "code",
   "execution_count": 2,
   "metadata": {},
   "outputs": [
    {
     "name": "stdout",
     "output_type": "stream",
     "text": [
      "4\n",
      "2\n",
      "brakes\n",
      "1\n",
      "1\n",
      "{'num_of_wheels': 4}\n"
     ]
    }
   ],
   "source": [
    "class Vehicle:\n",
    "#     Class Attributes:\n",
    "    stopping_mechanism = \"brakes\"\n",
    "    count = 0\n",
    "    \n",
    "    def __init__(self, num_of_wheels) -> None:\n",
    "        self.num_of_wheels = num_of_wheels\n",
    "        \n",
    "    def print_stopping_mechanism(self):\n",
    "        print(Vehicle.stopping_mechanism)\n",
    "        \n",
    "    def increment_count(self):\n",
    "        Vehicle.count += 1\n",
    "        \n",
    "    def get_count(self):\n",
    "        return Vehicle.count\n",
    "\n",
    "car = Vehicle(4)\n",
    "truck = Vehicle(8)\n",
    "bicycle = Vehicle(2)\n",
    "\n",
    "print(car.num_of_wheels)\n",
    "print(bicycle.num_of_wheels)\n",
    "\n",
    "car.print_stopping_mechanism()\n",
    "\n",
    "car.increment_count()\n",
    "print(car.get_count())\n",
    "print(bicycle.get_count())\n",
    "\n",
    "print(car.__dict__)"
   ]
  },
  {
   "cell_type": "code",
   "execution_count": null,
   "metadata": {},
   "outputs": [],
   "source": []
  },
  {
   "cell_type": "code",
   "execution_count": 29,
   "metadata": {},
   "outputs": [
    {
     "name": "stdout",
     "output_type": "stream",
     "text": [
      "XYS\n"
     ]
    }
   ],
   "source": [
    "class Student:\n",
    "#     A private member is only accessible within the class\n",
    "    __aadhar = ''\n",
    "    def __init__(self, name, marks, aadhar) -> None:\n",
    "        self.name = name\n",
    "        self.marks = marks\n",
    "        self.__aadhar = aadhar\n",
    "        \n",
    "# #         YOu should not expose private info like below\n",
    "#     def get_aadhar(self):\n",
    "#         return self.__aadhar\n",
    "    \n",
    "student1 = Student(\"Shahid\", [99, 89, 96],\"XYS\" )\n",
    "# print(student1.__aadhar)\n",
    "# print(student1.get_aadhar())"
   ]
  },
  {
   "cell_type": "code",
   "execution_count": 32,
   "metadata": {},
   "outputs": [
    {
     "name": "stdout",
     "output_type": "stream",
     "text": [
      "Shahid is a very good student\n"
     ]
    }
   ],
   "source": [
    "class Student:\n",
    "#     A private member is only accessible within the class\n",
    "    __aadhar = ''\n",
    "    __internal_info = ''\n",
    "    def __init__(self, name, marks, aadhar) -> None:\n",
    "        self.name = name\n",
    "        self.marks = marks\n",
    "        self.__aadhar = aadhar\n",
    "        self.__internal_info = f\"{name} is a very good student\"\n",
    "        \n",
    "    def print_internal_info(self):\n",
    "        return (self.__internal_info)\n",
    "        \n",
    "\n",
    "    \n",
    "student1 = Student(\"Shahid\", [99, 89, 96],\"XYS\" )\n",
    "print(student1.print_internal_info())\n"
   ]
  },
  {
   "cell_type": "code",
   "execution_count": 35,
   "metadata": {},
   "outputs": [
    {
     "name": "stdout",
     "output_type": "stream",
     "text": [
      "Internal feedback for student Shahid\n"
     ]
    },
    {
     "data": {
      "text/plain": [
       "284"
      ]
     },
     "execution_count": 35,
     "metadata": {},
     "output_type": "execute_result"
    }
   ],
   "source": [
    "class Student:\n",
    "#     A private member is only accessible within the class\n",
    "    __aadhar = ''\n",
    "    __internal_info = ''\n",
    "    def __init__(self, name, marks, aadhar) -> None:\n",
    "        self.name = name\n",
    "        self.marks = marks\n",
    "        self.__aadhar = aadhar\n",
    "        self.__internal_info = f\"{name} is a very good student\"\n",
    "        \n",
    "    def __compute_internal_feedback(self):\n",
    "        print(f\"Internal feedback for student {self.name}\")\n",
    "        \n",
    "    def compute_result(self):\n",
    "        tot = 0\n",
    "        for marks in self.marks:\n",
    "            tot += marks\n",
    "        self.__compute_internal_feedback()\n",
    "        return tot\n",
    "#         print(f\"Internal feedback for student {self.name}\")\n",
    "    \n",
    "student1 = Student(\"Shahid\", [99, 89, 96],\"XYS\" )\n",
    "# print(student1.print_internal_info())\n",
    "              \n",
    "              \n",
    "# student1.__compute_internal_feedback()\n",
    "student1.compute_result()\n",
    "\n"
   ]
  },
  {
   "cell_type": "code",
   "execution_count": 37,
   "metadata": {},
   "outputs": [
    {
     "name": "stdout",
     "output_type": "stream",
     "text": [
      "Rohan Rohan "
     ]
    }
   ],
   "source": [
    "class Student:\n",
    "     name = 'Rohan'\n",
    "     age = 16\n",
    "s1 = Student()\n",
    "s2 = Student()\n",
    "print(s1.name,end=' ')\n",
    "print(s2.name,end=' ')"
   ]
  },
  {
   "cell_type": "code",
   "execution_count": 38,
   "metadata": {},
   "outputs": [
    {
     "name": "stdout",
     "output_type": "stream",
     "text": [
      "Parikh 60\n"
     ]
    }
   ],
   "source": [
    "class Student:\n",
    "    name = \"Parikh\"\n",
    "    def store_details(self):\n",
    "        self.age = 60\n",
    "    def print_details(self):\n",
    "        print(self.name, end=\" \")\n",
    "        print(self.age)\n",
    "s = Student()\n",
    "s.store_details()\n",
    "s.print_details()"
   ]
  },
  {
   "cell_type": "code",
   "execution_count": null,
   "metadata": {},
   "outputs": [],
   "source": []
  },
  {
   "cell_type": "code",
   "execution_count": 40,
   "metadata": {},
   "outputs": [],
   "source": [
    "# class Student:\n",
    "#     name = \"Parikh\"\n",
    "#     def store_details(self):\n",
    "#         self.age = 60\n",
    "#     def print_age(self):\n",
    "#         print(self.age)\n",
    "# s = Student()\n",
    "# s.store_details()\n",
    "# s1 = Student()\n",
    "# s1.print_age()"
   ]
  },
  {
   "cell_type": "code",
   "execution_count": null,
   "metadata": {},
   "outputs": [],
   "source": []
  },
  {
   "cell_type": "markdown",
   "metadata": {},
   "source": [
    "### Constructor and Destructor"
   ]
  },
  {
   "cell_type": "code",
   "execution_count": 42,
   "metadata": {},
   "outputs": [
    {
     "name": "stdout",
     "output_type": "stream",
     "text": [
      "Constructor\n",
      "yash\n"
     ]
    }
   ],
   "source": [
    "class Student:\n",
    "    def __init__(self) -> None:\n",
    "        print(\"Constructor\")\n",
    "        self.name = \"\"\n",
    "       \n",
    "    def setName(self, name):\n",
    "        self.name = name\n",
    "    \n",
    "    \n",
    "studentA = Student()\n",
    "\n",
    "\n",
    "studentA.setName(\"yash\")\n",
    "\n",
    "print(studentA.name)"
   ]
  },
  {
   "cell_type": "code",
   "execution_count": 43,
   "metadata": {},
   "outputs": [
    {
     "name": "stdout",
     "output_type": "stream",
     "text": [
      "yash\n"
     ]
    }
   ],
   "source": [
    "# Default Constructor:\n",
    "\n",
    "class Student:\n",
    "       \n",
    "    def setName(self, name):\n",
    "        self.name = name\n",
    "    \n",
    "    \n",
    "studentA = Student()\n",
    "\n",
    "\n",
    "studentA.setName(\"yash\")\n",
    "\n",
    "print(studentA.name)"
   ]
  },
  {
   "cell_type": "code",
   "execution_count": null,
   "metadata": {},
   "outputs": [],
   "source": []
  },
  {
   "cell_type": "code",
   "execution_count": 44,
   "metadata": {},
   "outputs": [
    {
     "name": "stdout",
     "output_type": "stream",
     "text": [
      "Destructor\n"
     ]
    }
   ],
   "source": [
    "#Destructor\n",
    "\n",
    "class Student:\n",
    "    def __init__(self, name) -> None:\n",
    "#         print(\"Constructor\")\n",
    "        self.name = \"\"\n",
    "    \n",
    "    def __del__(self) :\n",
    "        print(\"Destructor\")\n",
    "\n",
    "studentA = Student(\"Yash\")\n",
    "del studentA\n"
   ]
  },
  {
   "cell_type": "code",
   "execution_count": null,
   "metadata": {},
   "outputs": [],
   "source": []
  },
  {
   "cell_type": "markdown",
   "metadata": {},
   "source": [
    "### Decorator"
   ]
  },
  {
   "cell_type": "code",
   "execution_count": 46,
   "metadata": {},
   "outputs": [
    {
     "name": "stdout",
     "output_type": "stream",
     "text": [
      "49995000\n"
     ]
    }
   ],
   "source": [
    "# Compute Execution time of a function\n",
    "import time\n",
    "\n",
    "def execution_time_check(func):\n",
    "    def inner(*args, **kwargs):\n",
    "        print(\"Calculating execution time\")\n",
    "        start_time = time.time()\n",
    "        val = func(*args, **kwargs)\n",
    "        end_time = time.time()\n",
    "        \n",
    "        print(f\"Function exe time: {end_time - start_time}\")\n",
    "        \n",
    "        return val\n",
    "    return inner\n",
    "    \n",
    "def calculator(n):\n",
    "    tot = 0\n",
    "    for i in range(1, n):\n",
    "        tot += i\n",
    "        \n",
    "    return tot\n",
    "\n",
    "print(calculator(10000))\n"
   ]
  },
  {
   "cell_type": "code",
   "execution_count": 48,
   "metadata": {},
   "outputs": [
    {
     "name": "stdout",
     "output_type": "stream",
     "text": [
      "Calculating execution time\n",
      "Function exe time: 0.0009367465972900391\n",
      "49995000\n"
     ]
    }
   ],
   "source": [
    "# Compute Execution time of a function\n",
    "import time\n",
    "\n",
    "def execution_time_check(func):\n",
    "    def inner(*args, **kwargs):\n",
    "        print(\"Calculating execution time\")\n",
    "        start_time = time.time()\n",
    "        val = func(*args, **kwargs)\n",
    "        end_time = time.time()\n",
    "        \n",
    "        print(f\"Function exe time: {end_time - start_time}\")\n",
    "        \n",
    "        return val\n",
    "    return inner\n",
    "    \n",
    "# Other utilities being added here\n",
    "@execution_time_check\n",
    "def calculator(n):\n",
    "    tot = 0\n",
    "    for i in range(1, n):\n",
    "        tot += i\n",
    "        \n",
    "    return tot\n",
    "\n",
    "print(calculator(10000))\n"
   ]
  },
  {
   "cell_type": "code",
   "execution_count": null,
   "metadata": {},
   "outputs": [],
   "source": []
  },
  {
   "cell_type": "markdown",
   "metadata": {},
   "source": [
    "### Static Method"
   ]
  },
  {
   "cell_type": "code",
   "execution_count": 49,
   "metadata": {},
   "outputs": [
    {
     "ename": "TypeError",
     "evalue": "Student.__init__() missing 2 required positional arguments: 'name' and 'age'",
     "output_type": "error",
     "traceback": [
      "\u001b[0;31m---------------------------------------------------------------------------\u001b[0m",
      "\u001b[0;31mTypeError\u001b[0m                                 Traceback (most recent call last)",
      "Cell \u001b[0;32mIn[49], line 12\u001b[0m\n\u001b[1;32m      8\u001b[0m         \u001b[38;5;28mprint\u001b[39m(\u001b[38;5;28mself\u001b[39m\u001b[38;5;241m.\u001b[39mname, end\u001b[38;5;241m=\u001b[39m \u001b[38;5;124m\"\u001b[39m\u001b[38;5;124m \u001b[39m\u001b[38;5;124m\"\u001b[39m)\n\u001b[1;32m      9\u001b[0m         \u001b[38;5;28mprint\u001b[39m(\u001b[38;5;28mself\u001b[39m\u001b[38;5;241m.\u001b[39mage)\n\u001b[0;32m---> 12\u001b[0m s \u001b[38;5;241m=\u001b[39m \u001b[43mStudent\u001b[49m\u001b[43m(\u001b[49m\u001b[43m)\u001b[49m\n\u001b[1;32m     13\u001b[0m s\u001b[38;5;241m.\u001b[39mprint_student_details()\n",
      "\u001b[0;31mTypeError\u001b[0m: Student.__init__() missing 2 required positional arguments: 'name' and 'age'"
     ]
    }
   ],
   "source": [
    "class Student:\n",
    "\n",
    "    def __init__(self,name,age):\n",
    "        self.name = \"Rohan\"\n",
    "        self.age = 20\n",
    "\n",
    "    def print_student_details():\n",
    "        print(self.name, end= \" \")\n",
    "        print(self.age)\n",
    "\n",
    "\n",
    "s = Student()\n",
    "s.print_student_details()"
   ]
  },
  {
   "cell_type": "code",
   "execution_count": 51,
   "metadata": {},
   "outputs": [
    {
     "ename": "TypeError",
     "evalue": "Student.print_student_details() takes 0 positional arguments but 1 was given",
     "output_type": "error",
     "traceback": [
      "\u001b[0;31m---------------------------------------------------------------------------\u001b[0m",
      "\u001b[0;31mTypeError\u001b[0m                                 Traceback (most recent call last)",
      "Cell \u001b[0;32mIn[51], line 10\u001b[0m\n\u001b[1;32m      8\u001b[0m         \u001b[38;5;28mprint\u001b[39m(\u001b[38;5;28mself\u001b[39m\u001b[38;5;241m.\u001b[39mage)\n\u001b[1;32m      9\u001b[0m s \u001b[38;5;241m=\u001b[39m Student(\u001b[38;5;124m'\u001b[39m\u001b[38;5;124mParikh\u001b[39m\u001b[38;5;124m'\u001b[39m,\u001b[38;5;241m25\u001b[39m)\n\u001b[0;32m---> 10\u001b[0m \u001b[43ms\u001b[49m\u001b[38;5;241;43m.\u001b[39;49m\u001b[43mprint_student_details\u001b[49m\u001b[43m(\u001b[49m\u001b[43m)\u001b[49m\n",
      "\u001b[0;31mTypeError\u001b[0m: Student.print_student_details() takes 0 positional arguments but 1 was given"
     ]
    }
   ],
   "source": [
    "class Student:\n",
    "    def __init__(self,name,age):\n",
    "        self.name = 'Rohan'\n",
    "        self.age = 20\n",
    "\n",
    "    def print_student_details():\n",
    "        print(self.name, end= \" \")\n",
    "        print(self.age)\n",
    "s = Student('Parikh',25)\n",
    "s.print_student_details()"
   ]
  },
  {
   "cell_type": "code",
   "execution_count": null,
   "metadata": {},
   "outputs": [],
   "source": []
  },
  {
   "cell_type": "code",
   "execution_count": null,
   "metadata": {},
   "outputs": [],
   "source": []
  },
  {
   "cell_type": "code",
   "execution_count": 55,
   "metadata": {},
   "outputs": [
    {
     "ename": "AttributeError",
     "evalue": "'Car' object has no attribute 'color'",
     "output_type": "error",
     "traceback": [
      "\u001b[0;31m---------------------------------------------------------------------------\u001b[0m",
      "\u001b[0;31mAttributeError\u001b[0m                            Traceback (most recent call last)",
      "Cell \u001b[0;32mIn[55], line 11\u001b[0m\n\u001b[1;32m      8\u001b[0m \u001b[38;5;66;03m#         self.color = color\u001b[39;00m\n\u001b[1;32m     10\u001b[0m c\u001b[38;5;241m=\u001b[39m Car(\u001b[38;5;124m\"\u001b[39m\u001b[38;5;124mblack\u001b[39m\u001b[38;5;124m\"\u001b[39m,\u001b[38;5;241m5\u001b[39m)\n\u001b[0;32m---> 11\u001b[0m \u001b[38;5;28mprint\u001b[39m(\u001b[43mc\u001b[49m\u001b[38;5;241;43m.\u001b[39;49m\u001b[43mcolor\u001b[49m)\n",
      "\u001b[0;31mAttributeError\u001b[0m: 'Car' object has no attribute 'color'"
     ]
    }
   ],
   "source": [
    "class Vehicle:\n",
    "     def __init__(self,color):\n",
    "        self.color = color\n",
    "        \n",
    "class Car(Vehicle):\n",
    "     def __init__(self,color,numGears):\n",
    "        self.numGears = numGears\n",
    "#         self.color = color\n",
    "        \n",
    "c= Car(\"black\",5)\n",
    "print(c.color)"
   ]
  },
  {
   "cell_type": "code",
   "execution_count": 56,
   "metadata": {},
   "outputs": [
    {
     "name": "stdout",
     "output_type": "stream",
     "text": [
      "50\n"
     ]
    }
   ],
   "source": [
    "class Shape:\n",
    "    \n",
    "    def __init__(self, x, y):\n",
    "        self.x = x\n",
    "        self.y = y\n",
    "            \n",
    "    def area(self):\n",
    "            pass\n",
    "\n",
    "class Rectangle(Shape):\n",
    "    def __init__(self, x, y, width, height):\n",
    "        super().__init__(x, y)\n",
    "        self.width = width\n",
    "        self.height = height\n",
    "    def area(self):\n",
    "        return self.width * self.height\n",
    "\n",
    "rect = Rectangle(0, 0, 5, 10)\n",
    "print(rect.area())"
   ]
  },
  {
   "cell_type": "code",
   "execution_count": 57,
   "metadata": {},
   "outputs": [
    {
     "name": "stdout",
     "output_type": "stream",
     "text": [
      "Name: Nancy\n",
      "Age: 25\n",
      "Salary: 500000\n"
     ]
    }
   ],
   "source": [
    "class Person:\n",
    "    def __init__(self, name, age):\n",
    "        self.name = name\n",
    "        self.age = age\n",
    "\n",
    "class Employee(Person):\n",
    "    def __init__(self, name, age, salary):\n",
    "        super().__init__(name, age)\n",
    "        self.salary = salary\n",
    "\n",
    "    def get_info(self):\n",
    "        print(\"Name: \" + self.name)\n",
    "        print(\"Age: \" + str(self.age))\n",
    "        print(\"Salary: \" + str(self.salary))\n",
    "\n",
    "emp = Employee(\"Nancy\", 25, 500000)\n",
    "emp.get_info()"
   ]
  },
  {
   "cell_type": "code",
   "execution_count": 58,
   "metadata": {},
   "outputs": [
    {
     "name": "stdout",
     "output_type": "stream",
     "text": [
      "5\n"
     ]
    }
   ],
   "source": [
    "class Base:\n",
    "    def __init__(self):\n",
    "        self._protected_var = 5\n",
    "\n",
    "class Derived(Base):\n",
    "    def __init__(self):\n",
    "        Base.__init__(self)\n",
    "\n",
    "class SubDerived(Derived):\n",
    "    def __init__(self):\n",
    "        Derived.__init__(self)\n",
    "\n",
    "obj = SubDerived()\n",
    "print(obj._protected_var)"
   ]
  },
  {
   "cell_type": "code",
   "execution_count": 59,
   "metadata": {},
   "outputs": [
    {
     "name": "stdout",
     "output_type": "stream",
     "text": [
      "Prachi is 30 years old.\n"
     ]
    }
   ],
   "source": [
    "class Person:\n",
    "    def __init__(self, name, age):\n",
    "        self.name = name\n",
    "        self.age = age\n",
    "        \n",
    "    def __str__(self):\n",
    "        return f\"{self.name} is {self.age} years old.\"\n",
    "    \n",
    "person = Person(\"Prachi\", 30)\n",
    "print(person)"
   ]
  },
  {
   "cell_type": "code",
   "execution_count": 61,
   "metadata": {},
   "outputs": [
    {
     "ename": "AttributeError",
     "evalue": "'Car' object has no attribute '_Car__color'",
     "output_type": "error",
     "traceback": [
      "\u001b[0;31m---------------------------------------------------------------------------\u001b[0m",
      "\u001b[0;31mAttributeError\u001b[0m                            Traceback (most recent call last)",
      "Cell \u001b[0;32mIn[61], line 12\u001b[0m\n\u001b[1;32m     10\u001b[0m         \u001b[38;5;28mprint\u001b[39m(c\u001b[38;5;241m.\u001b[39mnumGears)\n\u001b[1;32m     11\u001b[0m c \u001b[38;5;241m=\u001b[39m Car(\u001b[38;5;124m'\u001b[39m\u001b[38;5;124mblack\u001b[39m\u001b[38;5;124m'\u001b[39m,\u001b[38;5;241m5\u001b[39m)\n\u001b[0;32m---> 12\u001b[0m \u001b[43mc\u001b[49m\u001b[38;5;241;43m.\u001b[39;49m\u001b[43mprintCar\u001b[49m\u001b[43m(\u001b[49m\u001b[43m)\u001b[49m\n",
      "Cell \u001b[0;32mIn[61], line 9\u001b[0m, in \u001b[0;36mCar.printCar\u001b[0;34m(self)\u001b[0m\n\u001b[1;32m      8\u001b[0m \u001b[38;5;28;01mdef\u001b[39;00m \u001b[38;5;21mprintCar\u001b[39m(\u001b[38;5;28mself\u001b[39m):\n\u001b[0;32m----> 9\u001b[0m     \u001b[38;5;28mprint\u001b[39m(\u001b[43mc\u001b[49m\u001b[38;5;241;43m.\u001b[39;49m\u001b[43m__color\u001b[49m,end\u001b[38;5;241m=\u001b[39m\u001b[38;5;124m\"\u001b[39m\u001b[38;5;124m \u001b[39m\u001b[38;5;124m\"\u001b[39m)\n\u001b[1;32m     10\u001b[0m     \u001b[38;5;28mprint\u001b[39m(c\u001b[38;5;241m.\u001b[39mnumGears)\n",
      "\u001b[0;31mAttributeError\u001b[0m: 'Car' object has no attribute '_Car__color'"
     ]
    }
   ],
   "source": [
    "class Vehicle:\n",
    "     def __init__(self,color):\n",
    "        self.__color = color\n",
    "class Car(Vehicle):\n",
    "    def __init__(self,color,numGears):\n",
    "        super().__init__(color)\n",
    "        self.numGears = numGears\n",
    "    def printCar(self):\n",
    "        print(c.__color,end=\" \")\n",
    "        print(c.numGears)\n",
    "c = Car('black',5)\n",
    "c.printCar()"
   ]
  },
  {
   "cell_type": "code",
   "execution_count": null,
   "metadata": {},
   "outputs": [],
   "source": []
  },
  {
   "cell_type": "markdown",
   "metadata": {},
   "source": [
    "### Inheritance"
   ]
  },
  {
   "cell_type": "code",
   "execution_count": 2,
   "metadata": {},
   "outputs": [
    {
     "name": "stdout",
     "output_type": "stream",
     "text": [
      "Person here\n"
     ]
    }
   ],
   "source": [
    "# Base Class\n",
    "class Person:\n",
    "    def print_person(self):\n",
    "        print(\"Person here\")\n",
    "\n",
    "# Derived Class\n",
    "class Employee(Person):\n",
    "    def print_emp(self):\n",
    "        print(\"employee here\")\n",
    "\n",
    "emp = Employee()\n",
    "# emp.print_emp()\n",
    "emp.print_person()\n"
   ]
  },
  {
   "cell_type": "code",
   "execution_count": 4,
   "metadata": {},
   "outputs": [
    {
     "ename": "AttributeError",
     "evalue": "'Car' object has no attribute 'color'",
     "output_type": "error",
     "traceback": [
      "\u001b[0;31m---------------------------------------------------------------------------\u001b[0m",
      "\u001b[0;31mAttributeError\u001b[0m                            Traceback (most recent call last)",
      "\u001b[1;32m/Users/yasmeenmohammed/Yasmeen/YashLearnings/CodingNinja/DSA_Module/Week4_DSA/OOPs/oopsIntro.ipynb Cell 36\u001b[0m line \u001b[0;36m8\n\u001b[1;32m      <a href='vscode-notebook-cell:/Users/yasmeenmohammed/Yasmeen/YashLearnings/CodingNinja/DSA_Module/Week4_DSA/OOPs/oopsIntro.ipynb#X50sZmlsZQ%3D%3D?line=5'>6</a>\u001b[0m          \u001b[39mself\u001b[39m\u001b[39m.\u001b[39mnumGears \u001b[39m=\u001b[39m numGears\n\u001b[1;32m      <a href='vscode-notebook-cell:/Users/yasmeenmohammed/Yasmeen/YashLearnings/CodingNinja/DSA_Module/Week4_DSA/OOPs/oopsIntro.ipynb#X50sZmlsZQ%3D%3D?line=6'>7</a>\u001b[0m c\u001b[39m=\u001b[39m Car(\u001b[39m\"\u001b[39m\u001b[39mblack\u001b[39m\u001b[39m\"\u001b[39m,\u001b[39m5\u001b[39m)\n\u001b[0;32m----> <a href='vscode-notebook-cell:/Users/yasmeenmohammed/Yasmeen/YashLearnings/CodingNinja/DSA_Module/Week4_DSA/OOPs/oopsIntro.ipynb#X50sZmlsZQ%3D%3D?line=7'>8</a>\u001b[0m \u001b[39mprint\u001b[39m(c\u001b[39m.\u001b[39;49mcolor)\n",
      "\u001b[0;31mAttributeError\u001b[0m: 'Car' object has no attribute 'color'"
     ]
    }
   ],
   "source": [
    "class Vehicle:\n",
    "     def __init__(self,color):\n",
    "         self.color = color\n",
    "\n",
    "class Car(Vehicle):\n",
    "     def __init__(self,color,numGears):\n",
    "         self.numGears = numGears\n",
    "         \n",
    "c= Car(\"black\",5)\n",
    "print(c.color)"
   ]
  },
  {
   "cell_type": "code",
   "execution_count": 14,
   "metadata": {},
   "outputs": [
    {
     "name": "stdout",
     "output_type": "stream",
     "text": [
      "init Empoyee\n",
      "init Person\n",
      "Employee emp-234 working\n",
      "Person is travelling to Buffalo\n"
     ]
    }
   ],
   "source": [
    "# Base Class\n",
    "class Person(object):\n",
    "    def __init__(self, name, age, id) -> None:\n",
    "        print(\"init Person\")\n",
    "        self.name = name\n",
    "        self.age = age\n",
    "        self.id = id\n",
    "\n",
    "    def walk(slef):\n",
    "        print(f\"{self.name} is Walking\")\n",
    "\n",
    "    def travel(self, destination):\n",
    "        print(f\"Person is travelling to {destination}\")\n",
    "\n",
    "class Emp(Person):\n",
    "    def __init__(self, empNo, team, name, age, id) :\n",
    "        print(\"init Empoyee\")\n",
    "        self.empNo = empNo\n",
    "        self.team = team\n",
    "        # Here we should be able to initialise the person as well\n",
    "        super().__init__(name, age, id)\n",
    "\n",
    "    def work(self):\n",
    "        print(f\"Employee {self.empNo} working\")\n",
    "    \n",
    "    def give_attendance(self):\n",
    "        print(f\"Attendance given tp {self.empNo}\")\n",
    "\n",
    "emp = Emp('emp-234', 'Engineering', 'Shah', 28, \"id-123\")\n",
    "\n",
    "emp.work()\n",
    "emp.travel(\"Buffalo\")"
   ]
  },
  {
   "cell_type": "code",
   "execution_count": 15,
   "metadata": {},
   "outputs": [
    {
     "name": "stdout",
     "output_type": "stream",
     "text": [
      "black\n"
     ]
    }
   ],
   "source": [
    "class Vehicle:\n",
    "    def __init__(self,color):\n",
    "        self.color = color\n",
    "        \n",
    "class Car(Vehicle):\n",
    "    def __init__(self,color,numGears):\n",
    "        super().__init__(color)\n",
    "        self.numGears = numGears\n",
    "c= Car('black',5)\n",
    "print(c.color)\n"
   ]
  },
  {
   "cell_type": "code",
   "execution_count": 25,
   "metadata": {},
   "outputs": [
    {
     "name": "stdout",
     "output_type": "stream",
     "text": [
      "C A B\n"
     ]
    }
   ],
   "source": [
    "# Multiple Inheritance\n",
    "class Father:\n",
    "    def __init__(self,fname) -> None:\n",
    "        self.fname = fname\n",
    "        \n",
    "class Mother:\n",
    "    def __init__(self,mname) -> None:\n",
    "        self.mname = mname\n",
    "\n",
    "class Son(Father, Mother):\n",
    "    def __init__(self,fname, mname, cname) -> None:\n",
    "        Father.__init__(self, fname)\n",
    "        Mother.__init__(self, mname)\n",
    "        self.cname = cname\n",
    "\n",
    "son = Son(\"A\", \"B\", \"C\")\n",
    "print(son.cname, son.fname, son.mname)"
   ]
  },
  {
   "cell_type": "code",
   "execution_count": 26,
   "metadata": {},
   "outputs": [
    {
     "name": "stdout",
     "output_type": "stream",
     "text": [
      "Sachin 200 300\n"
     ]
    }
   ],
   "source": [
    "# Multi-Level Inheritance\n",
    "class Person:\n",
    "    def __init__(self,name) -> None:\n",
    "        self.name = name\n",
    "        \n",
    "class Cricketer(Person):\n",
    "    def __init__(self, name, matchesPlayed) -> None:\n",
    "        super().__init__(name)\n",
    "        self.matchesPlayed = matchesPlayed\n",
    "\n",
    "class Batsman(Cricketer):\n",
    "    def __init__(self,name, matchesPlayed, totalRuns) -> None:\n",
    "        super().__init__(name, matchesPlayed)\n",
    "        self.totalRuns = totalRuns\n",
    "\n",
    "batsman = Batsman(\"Sachin\", 200, 300)\n",
    "print(batsman.name, batsman.matchesPlayed, batsman.totalRuns)"
   ]
  },
  {
   "cell_type": "code",
   "execution_count": 28,
   "metadata": {},
   "outputs": [
    {
     "name": "stdout",
     "output_type": "stream",
     "text": [
      "Person\n",
      "Student\n",
      "Person\n",
      "Employee\n"
     ]
    }
   ],
   "source": [
    "# Hierarchical Inheritance\n",
    "class Person:\n",
    "    def __init__(self) -> None:\n",
    "        print(\"Person\")\n",
    "\n",
    "class Student(Person):\n",
    "    def __init__(self) -> None:\n",
    "        super().__init__()\n",
    "        print(\"Student\")\n",
    "\n",
    "class Employee(Person):\n",
    "    def __init__(self) -> None:\n",
    "        super().__init__()\n",
    "        \n",
    "        print(\"Employee\")\n",
    "\n",
    "\n",
    "\n",
    "stu = Student()\n",
    "emp = Employee()"
   ]
  },
  {
   "cell_type": "code",
   "execution_count": 33,
   "metadata": {},
   "outputs": [
    {
     "name": "stdout",
     "output_type": "stream",
     "text": [
      "Person Constructor is called\n",
      "Student Constructor is called\n"
     ]
    }
   ],
   "source": [
    "# Hibrid Inheritance\n",
    "class Person:\n",
    "    def __init__(self) -> None:\n",
    "        print(\"Person Constructor is called\")\n",
    "\n",
    "class Cricketer(Person):\n",
    "    def __init__(self) -> None:\n",
    "        super().__init__()\n",
    "        print(\"Cricketer Constructor is called\")\n",
    "\n",
    "class Batsman(Cricketer):\n",
    "    def __init__(self) -> None:\n",
    "        super().__init__()\n",
    "        print(\"Batsman Constructor is called\")\n",
    "\n",
    "class SchoolMem:\n",
    "    def __init__(self) -> None:\n",
    "        super().__init__()\n",
    "        print(\"SchoolMem Constructor is called\")\n",
    "\n",
    "class Student(Person, SchoolMem):\n",
    "    def __init__(self) -> None:\n",
    "        super().__init__()\n",
    "        print(\"Student Constructor is called\")\n",
    "\n",
    "# class Employee(Person):\n",
    "#     def __init__(self) -> None:\n",
    "#         super().__init__()\n",
    "#         print(\"Employee Constructor is called\")\n",
    "\n",
    "\n",
    "\n",
    "stu = Student()\n",
    "# emp = Employee()"
   ]
  },
  {
   "cell_type": "code",
   "execution_count": 37,
   "metadata": {},
   "outputs": [
    {
     "name": "stdout",
     "output_type": "stream",
     "text": [
      "C\n",
      "<__main__.C object at 0x103d5fca0>\n"
     ]
    }
   ],
   "source": [
    "class X: \n",
    "    # print(\"X\")\n",
    "    pass\n",
    "class Y: \n",
    "    # print(\"Y\")\n",
    "    pass\n",
    "class Z:\n",
    "    # print(\"Z\")\n",
    "    pass\n",
    "class A(X,Y):\n",
    "    # print(\"A\")\n",
    "    pass\n",
    "class B(Y,Z):\n",
    "    # print(\"B\")\n",
    "    pass\n",
    "class C(B,A,Y):\n",
    "    print(\"C\")\n",
    "\n",
    "\n",
    "c = C()\n",
    "print(c)"
   ]
  },
  {
   "cell_type": "code",
   "execution_count": null,
   "metadata": {},
   "outputs": [],
   "source": []
  },
  {
   "cell_type": "code",
   "execution_count": null,
   "metadata": {},
   "outputs": [],
   "source": []
  },
  {
   "cell_type": "markdown",
   "metadata": {},
   "source": [
    "### Polymorphism"
   ]
  },
  {
   "cell_type": "code",
   "execution_count": 47,
   "metadata": {},
   "outputs": [
    {
     "name": "stdout",
     "output_type": "stream",
     "text": [
      "5\n"
     ]
    }
   ],
   "source": [
    "class Vehicle:\n",
    "    def __init__(self,color):\n",
    "        self.color = color\n",
    "    def print(self):\n",
    "        print(c.color,end='')\n",
    "\n",
    "class Car(Vehicle):\n",
    "    def __init__(self,color,numGears):\n",
    "        super().__init__(color)\n",
    "        self.numGears = numGears\n",
    "\n",
    "    # RecursionError  loop\n",
    "    def print(self):\n",
    "        # uncomment below for RecursionError\n",
    "        # self.print()\n",
    "        print(c.numGears)\n",
    "        \n",
    "c = Car('black',5)\n",
    "c.print()"
   ]
  },
  {
   "cell_type": "code",
   "execution_count": 59,
   "metadata": {},
   "outputs": [],
   "source": [
    "class Bird:\n",
    "    def intro(self):\n",
    "        print(\"There are many types of birds.\")\n",
    "\n",
    "    def flight(self):\n",
    "        print(\"Most of the birds can fly but some cannot.\")\n",
    "\n",
    "\n",
    "class sparrow(Bird):\n",
    "    def flight(self):\n",
    "        print(\"Sparrows can fly.\")\n",
    "\n",
    "\n",
    "class ostrich(Bird):\n",
    "    def flight(self):\n",
    "        print(\"Ostriches cannot fly.\")\n",
    "\n",
    "\n",
    "obj_bird = Bird()\n",
    "obj_spr = sparrow()\n",
    "obj_ost = ostrich()\n"
   ]
  },
  {
   "cell_type": "code",
   "execution_count": null,
   "metadata": {},
   "outputs": [],
   "source": []
  },
  {
   "cell_type": "markdown",
   "metadata": {},
   "source": [
    "### Abstract\n"
   ]
  },
  {
   "cell_type": "code",
   "execution_count": 48,
   "metadata": {},
   "outputs": [
    {
     "name": "stdout",
     "output_type": "stream",
     "text": [
      "1000.0\n",
      "1500.0\n"
     ]
    }
   ],
   "source": [
    "# Withot Abstract -- high chances of messing the same code calculations in below eample.\n",
    "class Bank:\n",
    "    def __init__(self, name) -> None:\n",
    "        self.name = name\n",
    "\n",
    "class SBI(Bank):\n",
    "    def __init__(self, name) -> None:\n",
    "        super().__init__(name)\n",
    "\n",
    "    def get_rate(self) -> int:\n",
    "        return 10\n",
    "\n",
    "    def simple_interest(self, p, t) -> float:\n",
    "        return (p * self.get_rate() * t)/100\n",
    "\n",
    "class HDFC(Bank):\n",
    "    def __init__(self, name) -> None:\n",
    "        super().__init__(name)\n",
    "\n",
    "    def get_rate(self) -> int:\n",
    "        return 15\n",
    "\n",
    "    def simple_interest(self, p, t) -> float:\n",
    "        return (p * self.get_rate() * t)/100\n",
    "\n",
    "sbi = SBI(\"SBI hyd\")\n",
    "hdfc = HDFC(\"HDFC Nell\")\n",
    "\n",
    "print(sbi.simple_interest(1000, 10))\n",
    "print(hdfc.simple_interest(1000, 10))\n"
   ]
  },
  {
   "cell_type": "code",
   "execution_count": 57,
   "metadata": {},
   "outputs": [
    {
     "name": "stdout",
     "output_type": "stream",
     "text": [
      "1000.0\n",
      "1500.0\n"
     ]
    }
   ],
   "source": [
    "# Abstract:\n",
    "from abc import ABC, abstractmethod\n",
    "\n",
    "class Bank(ABC):\n",
    "    def __init__(self, name) -> None:\n",
    "        self.name = name\n",
    "        # print('111')\n",
    "\n",
    "    @abstractmethod\n",
    "    # method where the only changes happening in below classes: \n",
    "    def get_rate(self) -> int:\n",
    "        pass\n",
    "\n",
    "    def simple_interest(self, p, t) -> float:\n",
    "        # print('222')\n",
    "        return (p * self.get_rate() * t)/100\n",
    "\n",
    "\n",
    "class SBI(Bank):\n",
    "    def __init__(self, name) -> None:\n",
    "        super().__init__(name)\n",
    "\n",
    "    def get_rate(self) -> int:\n",
    "        # print('333')\n",
    "        return 10\n",
    "\n",
    "\n",
    "class HDFC(Bank):\n",
    "    def __init__(self, name) -> None:\n",
    "        super().__init__(name)\n",
    "\n",
    "    def get_rate(self) -> int:\n",
    "        # print('444')\n",
    "        return 15\n",
    "\n",
    "\n",
    "sbi = SBI(\"SBI hyd\")\n",
    "hdfc = HDFC(\"HDFC Nell\")\n",
    "\n",
    "print(sbi.simple_interest(1000, 10))\n",
    "print(hdfc.simple_interest(1000, 10))\n",
    "# sbi.simple_interest(1000, 10)\n",
    "# hdfc.simple_interest(1000, 10)"
   ]
  },
  {
   "cell_type": "code",
   "execution_count": null,
   "metadata": {},
   "outputs": [],
   "source": []
  },
  {
   "cell_type": "code",
   "execution_count": 58,
   "metadata": {},
   "outputs": [
    {
     "name": "stdout",
     "output_type": "stream",
     "text": [
      "78.5\n"
     ]
    }
   ],
   "source": [
    "from abc import ABC, abstractmethod\n",
    "class Shape(ABC):\n",
    "    @abstractmethod\n",
    "    def area(self):\n",
    "        pass\n",
    "\n",
    "class Circle(Shape):\n",
    "    def __init__(self, radius):\n",
    "        self.radius = radius\n",
    "\n",
    "    def area(self):\n",
    "        return 3.14 * self.radius ** 2\n",
    "\n",
    "c = Circle(5)\n",
    "print(c.area())"
   ]
  },
  {
   "cell_type": "code",
   "execution_count": null,
   "metadata": {},
   "outputs": [],
   "source": []
  }
 ],
 "metadata": {
  "kernelspec": {
   "display_name": "Python 3 (ipykernel)",
   "language": "python",
   "name": "python3"
  },
  "language_info": {
   "codemirror_mode": {
    "name": "ipython",
    "version": 3
   },
   "file_extension": ".py",
   "mimetype": "text/x-python",
   "name": "python",
   "nbconvert_exporter": "python",
   "pygments_lexer": "ipython3",
   "version": "3.9.6"
  }
 },
 "nbformat": 4,
 "nbformat_minor": 2
}
