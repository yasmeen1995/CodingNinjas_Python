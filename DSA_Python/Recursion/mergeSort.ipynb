{
 "cells": [
  {
   "cell_type": "code",
   "execution_count": 4,
   "metadata": {},
   "outputs": [
    {
     "name": "stdout",
     "output_type": "stream",
     "text": [
      "1 2 3 4 6 13 28\n"
     ]
    }
   ],
   "source": [
    "def mergeSort(arr: [int], l: int, r: int):\n",
    "    if l == r:\n",
    "        return\n",
    "    \n",
    "    mid = (l + r) // 2\n",
    "\n",
    "    mergeSort(arr, l, mid)\n",
    "    mergeSort(arr, mid + 1, r)\n",
    "\n",
    "    merge(arr, l, mid, r)\n",
    "\n",
    "def merge(arr, l, mid, r):\n",
    "    len1 = mid - l + 1\n",
    "    len2 = r - mid\n",
    "    leftArr = [0] * len1\n",
    "    rightArr = [0] * len2\n",
    "\n",
    "    for i in range(len1):\n",
    "        leftArr[i] = arr[l + i]\n",
    "    \n",
    "    for j in range(len2):\n",
    "        rightArr[j] = arr[mid + 1 + j]\n",
    "\n",
    "    ptrA, ptrB, ptrC = 0, 0, l\n",
    "\n",
    "    while ptrA < len1 and ptrB < len2:\n",
    "        if leftArr[ptrA] < rightArr[ptrB]:\n",
    "            arr[ptrC] = leftArr[ptrA]\n",
    "            ptrA += 1\n",
    "        else:\n",
    "            arr[ptrC] = rightArr[ptrB]\n",
    "            ptrB += 1\n",
    "        ptrC += 1\n",
    "\n",
    "    while ptrA < len1:\n",
    "        arr[ptrC] = leftArr[ptrA]\n",
    "        ptrA += 1\n",
    "        ptrC += 1\n",
    "\n",
    "    while ptrB < len2:\n",
    "        arr[ptrC] = rightArr[ptrB]\n",
    "        ptrB += 1\n",
    "        ptrC += 1\n",
    "\n",
    "# Print statements for debugging\n",
    "\n",
    "N = int(input())\n",
    "arr = list(map(int, input().split(' ')))\n",
    "l, r = 0, N - 1\n",
    "mergeSort(arr, l, r)\n",
    "\n",
    "print(*arr)\n",
    "\n"
   ]
  },
  {
   "cell_type": "code",
   "execution_count": null,
   "metadata": {},
   "outputs": [],
   "source": [
    "7\n",
    "2 13 4 1 3 6 28"
   ]
  }
 ],
 "metadata": {
  "kernelspec": {
   "display_name": "Python 3",
   "language": "python",
   "name": "python3"
  },
  "language_info": {
   "codemirror_mode": {
    "name": "ipython",
    "version": 3
   },
   "file_extension": ".py",
   "mimetype": "text/x-python",
   "name": "python",
   "nbconvert_exporter": "python",
   "pygments_lexer": "ipython3",
   "version": "3.9.6"
  }
 },
 "nbformat": 4,
 "nbformat_minor": 2
}
