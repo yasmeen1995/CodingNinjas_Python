{
 "cells": [
  {
   "cell_type": "code",
   "execution_count": 1,
   "metadata": {},
   "outputs": [],
   "source": [
    "from sys import stdin\n",
    "\n",
    "def binarySearch(arr, start, end, searchEle):\n",
    "    if start > end:\n",
    "        return -1\n",
    "    \n",
    "    mid = (start + end) // 2\n",
    "\n",
    "    if searchEle == arr[mid]:\n",
    "        print(arr[mid])\n",
    "        return arr[mid]\n",
    "\n",
    "    elif searchEle < arr[mid]: #element in left half\n",
    "        return binarySearch(arr, start, mid-1, searchEle)\n",
    "\n",
    "    else: #element in right half\n",
    "        return binarySearch(arr, mid+1, end, searchEle)\n",
    "\n",
    "\n",
    "def intersection(arr1, arr2, n, m) :\n",
    "\t#Your code goes here\n",
    "\n",
    "    if n <= m:\n",
    "        arr1.sort()\n",
    "\n",
    "        for i in arr2:\n",
    "            binarySearch(arr1, 0, m-1, i )\n",
    "    else:\n",
    "        arr2.sort()\n",
    "\n",
    "        for j in arr1:\n",
    "            binarySearch(arr2, 0, n-1, j)\n",
    "        \n",
    "# def removeDuplicates(arr):\n",
    "#     xor = 0\n",
    "#     for i in range(len(arr)):\n",
    "#         xor^=arr[i]\n",
    "#         print(xor)\n",
    "\n",
    "#     for i in range(len(arr)):\n",
    "#         arr[i] = xor^arr[i]\n",
    "\n",
    "#     return arr\n",
    "def removeDuplicates(arr):\n",
    "    unique_set = set()\n",
    "    result = []\n",
    "    \n",
    "    for num in arr:\n",
    "        if num not in unique_set:\n",
    "            unique_set.add(num)\n",
    "            result.append(num)\n",
    "    \n",
    "    return result"
   ]
  },
  {
   "cell_type": "code",
   "execution_count": 2,
   "metadata": {},
   "outputs": [
    {
     "ename": "KeyboardInterrupt",
     "evalue": "",
     "output_type": "error",
     "traceback": [
      "\u001b[0;31m---------------------------------------------------------------------------\u001b[0m",
      "\u001b[0;31mKeyboardInterrupt\u001b[0m                         Traceback (most recent call last)",
      "\u001b[1;32m/Users/yasmeenmohammed/Yasmeen/YashLearnings/CodingNinja/DSA_Module/Week3_DSA/Complexity_Problems/ArryInsertion_Binary.ipynb Cell 2\u001b[0m line \u001b[0;36m1\n\u001b[1;32m      <a href='vscode-notebook-cell:/Users/yasmeenmohammed/Yasmeen/YashLearnings/CodingNinja/DSA_Module/Week3_DSA/Complexity_Problems/ArryInsertion_Binary.ipynb#W1sZmlsZQ%3D%3D?line=8'>9</a>\u001b[0m     \u001b[39mreturn\u001b[39;00m arr, n\n\u001b[1;32m     <a href='vscode-notebook-cell:/Users/yasmeenmohammed/Yasmeen/YashLearnings/CodingNinja/DSA_Module/Week3_DSA/Complexity_Problems/ArryInsertion_Binary.ipynb#W1sZmlsZQ%3D%3D?line=11'>12</a>\u001b[0m \u001b[39m#main\u001b[39;00m\n\u001b[0;32m---> <a href='vscode-notebook-cell:/Users/yasmeenmohammed/Yasmeen/YashLearnings/CodingNinja/DSA_Module/Week3_DSA/Complexity_Problems/ArryInsertion_Binary.ipynb#W1sZmlsZQ%3D%3D?line=12'>13</a>\u001b[0m t \u001b[39m=\u001b[39m \u001b[39mint\u001b[39m(stdin\u001b[39m.\u001b[39;49mreadline()\u001b[39m.\u001b[39mstrip())\n\u001b[1;32m     <a href='vscode-notebook-cell:/Users/yasmeenmohammed/Yasmeen/YashLearnings/CodingNinja/DSA_Module/Week3_DSA/Complexity_Problems/ArryInsertion_Binary.ipynb#W1sZmlsZQ%3D%3D?line=14'>15</a>\u001b[0m \u001b[39mwhile\u001b[39;00m t \u001b[39m>\u001b[39m \u001b[39m0\u001b[39m :\n\u001b[1;32m     <a href='vscode-notebook-cell:/Users/yasmeenmohammed/Yasmeen/YashLearnings/CodingNinja/DSA_Module/Week3_DSA/Complexity_Problems/ArryInsertion_Binary.ipynb#W1sZmlsZQ%3D%3D?line=16'>17</a>\u001b[0m     arr1, n \u001b[39m=\u001b[39m takeInput()\n",
      "\u001b[0;31mKeyboardInterrupt\u001b[0m: "
     ]
    }
   ],
   "source": [
    "\n",
    "# Taking input using fast I/O method\n",
    "def takeInput() :\n",
    "    n = int(stdin.readline().strip())\n",
    "    \n",
    "    if n == 0 :\n",
    "    \treturn list(), 0\n",
    "\n",
    "    arr = list(map(int, stdin.readline().strip().split(\" \")))\n",
    "    return arr, n\n",
    "\n",
    "\n",
    "#main\n",
    "t = int(stdin.readline().strip())\n",
    "\n",
    "while t > 0 :\n",
    "\n",
    "    arr1, n = takeInput()\n",
    "    arr2, m = takeInput()\n",
    "    arr2 = removeDuplicates(arr2)\n",
    "    intersection(arr1, arr2, n, m)\n",
    "    print()\n",
    "\n",
    "    t -= 1\n"
   ]
  }
 ],
 "metadata": {
  "kernelspec": {
   "display_name": "Python 3",
   "language": "python",
   "name": "python3"
  },
  "language_info": {
   "codemirror_mode": {
    "name": "ipython",
    "version": 3
   },
   "file_extension": ".py",
   "mimetype": "text/x-python",
   "name": "python",
   "nbconvert_exporter": "python",
   "pygments_lexer": "ipython3",
   "version": "3.9.6"
  }
 },
 "nbformat": 4,
 "nbformat_minor": 2
}
