{
 "cells": [
  {
   "cell_type": "code",
   "execution_count": 3,
   "metadata": {},
   "outputs": [
    {
     "name": "stdout",
     "output_type": "stream",
     "text": [
      "Samllest elem is: 10\n",
      "Second smallest elem is: 20\n",
      "Third smallest elem is: 25\n"
     ]
    }
   ],
   "source": [
    "import heapq\n",
    "class Heap:\n",
    "    def __init__(self, max_size: int) -> None:\n",
    "        self.heap = [0 for _ in range(max_size)]\n",
    "        self.size = 0\n",
    "    \"\"\"\n",
    "    a is current, b is target\n",
    "    Return true if b is to swapped with a\n",
    "    \"\"\"\n",
    "    def compare(self, a, b) -> bool:\n",
    "        return a > b\n",
    "    \n",
    "    def swap(self, idx1, idx2):\n",
    "        self.heap[idx1], self.heap[idx2] = self.heap[idx2], self.heap[idx1]\n",
    "\n",
    "    # Insert val into the heap\n",
    "    def insert(self, val:int) -> None:\n",
    "        self.size += 1\n",
    "        # Inserted val at end of heap\n",
    "        self.heap[self.size] = val\n",
    "\n",
    "        # Move the value to its actual place according to max or min\n",
    "        idx = self.size\n",
    "\n",
    "        while idx > 1:\n",
    "            parent = idx // 2\n",
    "            if self.compare(self.heap[parent], self.heap[idx]):\n",
    "                self.swap(parent, idx)\n",
    "                idx = parent\n",
    "            else:\n",
    "                break\n",
    "\n",
    "    def heapify(self, pos) -> None:\n",
    "        idx = pos\n",
    "        # Going till it is not a leave node\n",
    "        while 2 * idx <= self.size:\n",
    "            g = idx\n",
    "            left = 2 * idx\n",
    "            right = 2 * idx + 1\n",
    "            # Comparing root with left \n",
    "            if self.compare(self.heap[idx], self.heap[left]):\n",
    "                g = left\n",
    "\n",
    "            # Comparing left with right \n",
    "            if right <= self.size and self.compare(self.heap[g], self.heap[right]):\n",
    "                g = right\n",
    "            \n",
    "            # Current node is at actual position (nop swap required)\n",
    "            if g == idx:\n",
    "                break\n",
    "\n",
    "            self.swap(g, idx)\n",
    "            idx = g\n",
    "\n",
    "    def remove(self) -> int:\n",
    "        self.swap(1, self.size)\n",
    "        self.size -= 1\n",
    "        self.heapify(1)\n",
    "\n",
    "        return self.heap[self.size + 1]\n",
    "\n",
    "    def print(self) -> None:\n",
    "        print(\"Heap is: \")\n",
    "        for i in range(1, self.size+1):\n",
    "            print(self.heap[i],)\n",
    "        print(\"\\n==============\")\n",
    "\n",
    "\n",
    "if __name__ == \"__main__\":\n",
    "    # heap = Heap(10)\n",
    "    # heap.insert(10)\n",
    "    # heap.insert(20)\n",
    "    # heap.insert(30)\n",
    "    # heap.insert(25)\n",
    "    # heap.insert(35)\n",
    "    # print(\"greast element is: \" + str(heap.remove()))\n",
    "    # heap.print()\n",
    "\n",
    "    a = [20, 10]\n",
    "    heapq.heapify(a)\n",
    "    heapq.heappush(a, 30)\n",
    "    heapq.heappush(a, 35)\n",
    "    heapq.heappush(a, 25)\n",
    "\n",
    "    print(\"Samllest elem is: \"+ str(a[0]))\n",
    "    heapq.heappop(a)\n",
    "    print(\"Second smallest elem is: \"+ str(heapq.heappop(a)))\n",
    "    print(\"Third smallest elem is: \"+ str(heapq.heappop(a)))\n",
    "\n",
    "\n",
    "\n",
    "\n"
   ]
  },
  {
   "cell_type": "code",
   "execution_count": null,
   "metadata": {},
   "outputs": [],
   "source": []
  },
  {
   "cell_type": "code",
   "execution_count": 14,
   "metadata": {},
   "outputs": [
    {
     "name": "stdout",
     "output_type": "stream",
     "text": [
      "[1, 3, 9, 7, 5]\n"
     ]
    }
   ],
   "source": [
    "import heapq\n",
    "arr = [5, 7, 9, 1, 3]\n",
    "heapq.heapify(arr)\n",
    "print ((list(arr)))"
   ]
  },
  {
   "cell_type": "code",
   "execution_count": 9,
   "metadata": {},
   "outputs": [
    {
     "name": "stdout",
     "output_type": "stream",
     "text": [
      "1\n"
     ]
    }
   ],
   "source": [
    "import heapq\n",
    "li = [5, 7, 9, 1, 3]\n",
    "heapq.heapify(li)\n",
    "heapq.heappush(li, 4)\n",
    "print(heapq.heappop(li))\n"
   ]
  },
  {
   "cell_type": "code",
   "execution_count": null,
   "metadata": {},
   "outputs": [],
   "source": []
  },
  {
   "cell_type": "code",
   "execution_count": 10,
   "metadata": {},
   "outputs": [
    {
     "name": "stdout",
     "output_type": "stream",
     "text": [
      "[1, 2, 2, 3]\n"
     ]
    }
   ],
   "source": [
    "from typing import List\n",
    "import heapq\n",
    "\n",
    "def find_k_smallest_elements(arr: List[int], k: int) -> List[int]:\n",
    "    heapq.heapify(arr)\n",
    "    ans = []\n",
    "    for i in range(k):\n",
    "        ans.append(heapq.heappop(arr))\n",
    "\n",
    "    return ans\n",
    "\n",
    "if __name__ == \"__main__\":\n",
    "    a = [2,2,3,5,1,3,6,8]\n",
    "    print(find_k_smallest_elements(a, 4))"
   ]
  },
  {
   "cell_type": "code",
   "execution_count": 13,
   "metadata": {},
   "outputs": [
    {
     "name": "stdout",
     "output_type": "stream",
     "text": [
      "[1, 2, 2, 3, 3, 5, 6, 8]\n"
     ]
    }
   ],
   "source": [
    "def kLargest(lst, k):\n",
    "    #############################\n",
    "    # PLEASE ADD YOUR CODE HERE #\n",
    "    #############################\n",
    "    length = len(lst)\n",
    "    heapq.heapify(lst)\n",
    "    ans = []\n",
    "    for i in range(length, 0, -1):\n",
    "        ans.append(heapq.heappop(lst))\n",
    "\n",
    "    return ans\n",
    "\n",
    "\n",
    "if __name__ == \"__main__\":\n",
    "    a = [2,2,3,5,1,3,6,8]\n",
    "    print(kLargest(a, 4))"
   ]
  },
  {
   "cell_type": "code",
   "execution_count": 16,
   "metadata": {},
   "outputs": [
    {
     "name": "stdout",
     "output_type": "stream",
     "text": [
      "2 3 6 8 12 56 "
     ]
    }
   ],
   "source": [
    "from heapq import heappop, heappush, heapify\n",
    "def print_array(arr: list):\n",
    "    for elem in arr:\n",
    "        print(elem, end=' ')\n",
    "\n",
    "def sort_k(arr: list, n: int, k: int):\n",
    "    heap = arr[:k + 1]\n",
    "    heapify(heap)\n",
    "    target_index = 0\n",
    "    for rem_elmnts_index in range(k + 1, n):\n",
    "        arr[target_index] = heappop(heap)\n",
    "        heappush(heap, arr[rem_elmnts_index])\n",
    "        target_index += 1\n",
    "    while heap:\n",
    "        arr[target_index] = heappop(heap)\n",
    "        target_index += 1\n",
    "\n",
    "\n",
    "arr = [2, 6, 3, 12, 56, 8] \n",
    "k = 3\n",
    "n =len(arr)\n",
    "\n",
    "sort_k(arr, n, k)\n",
    "print_array(arr)"
   ]
  },
  {
   "cell_type": "code",
   "execution_count": null,
   "metadata": {},
   "outputs": [],
   "source": []
  },
  {
   "cell_type": "markdown",
   "metadata": {},
   "source": [
    "### Max Heap"
   ]
  },
  {
   "cell_type": "code",
   "execution_count": 17,
   "metadata": {},
   "outputs": [
    {
     "name": "stdout",
     "output_type": "stream",
     "text": [
      "Max elements: 5\n"
     ]
    }
   ],
   "source": [
    "import heapq\n",
    "arr = [2,1,4,3,5]\n",
    "\n",
    "neg = [-el for el in arr]\n",
    "\n",
    "heapq.heapify(neg)\n",
    "\n",
    "print(\"Max elements: \"+ str(-1 * heapq.heappop(neg)))"
   ]
  },
  {
   "cell_type": "code",
   "execution_count": 26,
   "metadata": {},
   "outputs": [
    {
     "name": "stdout",
     "output_type": "stream",
     "text": [
      "Yash 24 92\n",
      "Sha 25 92\n",
      "ABC 19 88\n",
      "XYZ 28 88\n"
     ]
    }
   ],
   "source": [
    "### Better way:::\n",
    "import heapq\n",
    "\n",
    "class MaxWrapper:\n",
    "    def __init__(self, value) -> None:\n",
    "        self.value = value\n",
    "\n",
    "    # lt -- less than\n",
    "    def __lt__(self, obj) -> bool:\n",
    "        return self.value > obj.value\n",
    "\n",
    "    def __eq__(self, obj) -> bool:\n",
    "        return self.value == obj.value\n",
    "\n",
    "    def getValue(self) -> int:\n",
    "        return self.value\n",
    "\n",
    "\n",
    "class Student:\n",
    "    def __init__(self, name: str, age: int, marks: int):\n",
    "        self.name = name\n",
    "        self.age = age\n",
    "        self.marks = marks\n",
    "    def print(self):\n",
    "        print(self.name + \" \" + str(self.age) + \" \" + str(self.marks))\n",
    "\n",
    "    def __lt__(self, obj) -> bool:\n",
    "        if self.marks != obj.marks:\n",
    "            return self.marks > obj.marks #Whoever has Greater marks, comes at top\n",
    "        else:\n",
    "            return self.age < obj.age #Whoever has lesser age, comes at top\n",
    "\n",
    "    def __eq__(self, __o: object) -> bool:\n",
    "        return self.marks == __o.marks and self.age == __o.age\n",
    "\n",
    "\n",
    "\n",
    "\n",
    "arr = [2,1,4,3,5]\n",
    "\n",
    "# wrapped_arr = [MaxWrapper(el) for el in arr] ---> same as below line\n",
    "# wrapped_arr = list(map(lambda item: MaxWrapper(item), arr))\n",
    "# heapq.heapify(wrapped_arr)\n",
    "\n",
    "# print(\"Max elements: \"+ str(heapq.heappop(wrapped_arr).getValue()))\n",
    "\n",
    "students = []\n",
    "students.append(Student(\"ABC\", 19, 88))\n",
    "students.append(Student(\"Yash\", 24, 92))\n",
    "students.append(Student(\"Sha\", 25, 92))\n",
    "students.append(Student(\"XYZ\", 28, 88))\n",
    "\n",
    "heapq.heapify(students)\n",
    "n = len(students)\n",
    "for i in range(n):\n",
    "    student = heapq.heappop(students)\n",
    "    student.print()\n",
    "\n",
    "\n"
   ]
  },
  {
   "cell_type": "markdown",
   "metadata": {},
   "source": [
    "### K MAx Sum Combination"
   ]
  },
  {
   "cell_type": "code",
   "execution_count": 29,
   "metadata": {},
   "outputs": [
    {
     "name": "stdout",
     "output_type": "stream",
     "text": [
      "[11, 9]\n"
     ]
    }
   ],
   "source": [
    "import heapq\n",
    "\n",
    "from typing import List\n",
    "\n",
    "class Element:\n",
    "    def __init__(self, val, id1, id2) -> None:\n",
    "        self.val = val\n",
    "        self.id1 = id1\n",
    "        self.id2 = id2\n",
    "\n",
    "    def __lt__(self, o) -> bool:\n",
    "        return self.val > o.val\n",
    "\n",
    "    def __eq__(self, __o: object) -> bool:\n",
    "        return self.val == __o.val\n",
    "\n",
    "\n",
    "def kMaxSumCombination(a: List[int], b: List[int], n: int, k: int) -> List[int]:\n",
    "    # write your code here\n",
    "    a.sort(reverse=True)\n",
    "    b.sort(reverse=True)\n",
    "\n",
    "    ans = []\n",
    "    heap = [Element(a[0]+ b[0], 0, 0)]\n",
    "    taken = {}\n",
    "    taken[(0,0)] = True\n",
    "\n",
    "    for _ in range(k):\n",
    "        tp: Element = heapq.heappop(heap)\n",
    "        ans.append(tp.val)\n",
    "        id1, id2 = tp.id1, tp.id2\n",
    "\n",
    "        if (id1 + 1) < n and not taken.get((id1+1, id2), False):\n",
    "            heapq.heappush(heap, Element(a[id1+1]+b[id2], id1+1, id2))\n",
    "            taken[(id1+1, id2)] = True\n",
    "\n",
    "        if (id2 + 1) < n and not taken.get((id1, id2+1), False):\n",
    "            heapq.heappush(heap, Element(a[id1]+b[id2+1], id1, id2+1))\n",
    "            taken[(id1, id2+1)] = True\n",
    "\n",
    "    return ans\n",
    "\n",
    "\n",
    "if __name__ == \"__main__\":\n",
    "    a = [1,3,5]\n",
    "    b = [6,4,2]\n",
    "\n",
    "    print(kMaxSumCombination(a,b,3,2))\n",
    "    \n"
   ]
  },
  {
   "cell_type": "code",
   "execution_count": null,
   "metadata": {},
   "outputs": [],
   "source": []
  },
  {
   "cell_type": "markdown",
   "metadata": {},
   "source": [
    "### Merge K sorted Arrays"
   ]
  },
  {
   "cell_type": "code",
   "execution_count": 31,
   "metadata": {},
   "outputs": [
    {
     "name": "stdout",
     "output_type": "stream",
     "text": [
      "[1, 1, 2, 2, 3, 4, 5, 6, 7]\n"
     ]
    }
   ],
   "source": [
    "from sys import *\n",
    "from collections import *\n",
    "from math import *\n",
    "from typing import List\n",
    "import heapq\n",
    "\n",
    "class Element:\n",
    "    def __init__(self, val, idx) -> None:\n",
    "        self.val = val\n",
    "        self.idx = idx\n",
    "\n",
    "    # lt -- less than\n",
    "    def __lt__(self, obj) -> bool:\n",
    "        return self.val < obj.val #Gets smallest ele at top Min heap\n",
    "\n",
    "    def __eq__(self, obj: object) -> bool:\n",
    "        return self.val == obj.val\n",
    "\n",
    "def mergeKSortedArrays(kArrays, k:int):\n",
    "\t# Write your code here.\n",
    "\t# kArrays is a list of 'k' lists.\n",
    "\t# Return a list.\n",
    "    \n",
    "    ans = []\n",
    "    ptr = [0 for _ in range(k)]\n",
    "    heap = [Element(kArrays[i][0], i) for i in range(k)]\n",
    "    heapq.heapify(heap)\n",
    "\n",
    "    while len(heap)> 0:\n",
    "        tp: Element = heapq.heappop(heap)\n",
    "        ans.append(tp.val)\n",
    "        ar_idx = tp.idx\n",
    "    \n",
    "        if ptr[ar_idx] + 1 < len(kArrays[ar_idx]):\n",
    "            ptr[ar_idx] += 1\n",
    "            heapq.heappush(heap, Element(kArrays[ar_idx][ptr[ar_idx]], ar_idx))\n",
    "\n",
    "    return ans\n",
    "\n",
    "\n",
    "if __name__ == \"__main__\":\n",
    "   print(mergeKSortedArrays([[2,4,5,6], [1,3], [1,2,7]], 3))\n",
    "\n"
   ]
  },
  {
   "cell_type": "markdown",
   "metadata": {},
   "source": [
    "### Finding Median"
   ]
  },
  {
   "cell_type": "code",
   "execution_count": 36,
   "metadata": {},
   "outputs": [
    {
     "name": "stdout",
     "output_type": "stream",
     "text": [
      "[6, 4, 2, 2, 3, 4]\n"
     ]
    }
   ],
   "source": [
    "\n",
    "import heapq\n",
    "from typing import List\n",
    "\n",
    "\n",
    "class Element:\n",
    "    def __init__(self, val) -> None:\n",
    "        self.val = val\n",
    "\n",
    "       # lt -- less than\n",
    "    def __lt__(self, obj) -> bool:\n",
    "        return self.val > obj.val #Gets Largest ele at top Min heap\n",
    "\n",
    "    def __eq__(self, obj: object) -> bool:\n",
    "        return self.val == obj.val\n",
    "\n",
    "\n",
    "\n",
    "def balance(lh: List[Element], uh: List[int]) -> None:\n",
    "    len_l = len(lh)\n",
    "    len_r = len(uh)\n",
    "\n",
    "    if len_l == len_r or len_l == len_r + 1:\n",
    "        return \n",
    "    elif len_l > len_r:\n",
    "        tp = heapq.heappop(lh)\n",
    "        heapq.heappush(uh, tp.val)\n",
    "    else:\n",
    "        tp = heapq.heappop(uh)\n",
    "        heapq.heappush(lh, Element(tp))\n",
    "\n",
    "\n",
    "def findMedian(arr, n):\n",
    "    # Write your code here\n",
    "    lh = []\n",
    "    uh = []\n",
    "    ans = []\n",
    "\n",
    "    for i in range(n):\n",
    "        if len(lh) == 0:\n",
    "            heapq.heappush(lh, Element(arr[i]))\n",
    "        else:\n",
    "            tp: Element = lh[0]\n",
    "            if arr[i] < tp.val:\n",
    "                heapq.heappush(lh, Element(arr[i]))\n",
    "            else:\n",
    "                heapq.heappush(uh, arr[i])\n",
    "\n",
    "            balance(lh, uh)\n",
    "\n",
    "        if i % 2 ==0:\n",
    "            # Odd ele\n",
    "            ans.append(lh[0].val)\n",
    "        else:\n",
    "            ans.append((lh[0].val + uh[0])//2)\n",
    "\n",
    "    return ans\n",
    "\n",
    "\n",
    "if __name__ == \"__main__\":\n",
    "    print(findMedian([6,2,1,3,7,5], 6))\n"
   ]
  },
  {
   "cell_type": "code",
   "execution_count": null,
   "metadata": {},
   "outputs": [],
   "source": []
  }
 ],
 "metadata": {
  "kernelspec": {
   "display_name": "Python 3",
   "language": "python",
   "name": "python3"
  },
  "language_info": {
   "codemirror_mode": {
    "name": "ipython",
    "version": 3
   },
   "file_extension": ".py",
   "mimetype": "text/x-python",
   "name": "python",
   "nbconvert_exporter": "python",
   "pygments_lexer": "ipython3",
   "version": "3.9.6"
  }
 },
 "nbformat": 4,
 "nbformat_minor": 2
}
