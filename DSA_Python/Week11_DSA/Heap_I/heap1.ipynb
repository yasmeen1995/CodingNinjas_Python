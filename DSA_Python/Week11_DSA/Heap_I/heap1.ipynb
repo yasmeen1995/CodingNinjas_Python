{
 "cells": [
  {
   "cell_type": "code",
   "execution_count": 5,
   "metadata": {},
   "outputs": [
    {
     "name": "stdout",
     "output_type": "stream",
     "text": [
      "greast element is: 35\n",
      "Heap is: \n",
      "30\n",
      "25\n",
      "20\n",
      "10\n",
      "\n",
      "==============\n"
     ]
    }
   ],
   "source": [
    "class Heap:\n",
    "    def __init__(self, max_size: int) -> None:\n",
    "        self.heap = [0 for _ in range(max_size)]\n",
    "        self.size = 0\n",
    "    \"\"\"\n",
    "    a is current, b is target\n",
    "    Return true if b is to swapped with a\n",
    "    \"\"\"\n",
    "    def compare(self, a, b) -> bool:\n",
    "        return b > a\n",
    "    \n",
    "    def swap(self, idx1, idx2):\n",
    "        self.heap[idx1], self.heap[idx2] = self.heap[idx2], self.heap[idx1]\n",
    "\n",
    "    # Insert val into the heap\n",
    "    def insert(self, val:int) -> None:\n",
    "        self.size += 1\n",
    "        # Inserted val at end of heap\n",
    "        self.heap[self.size] = val\n",
    "\n",
    "        # Move the value to its actual place according to max or min\n",
    "        idx = self.size\n",
    "\n",
    "        while idx > 1:\n",
    "            parent = idx // 2\n",
    "            if self.compare(self.heap[parent], self.heap[idx]):\n",
    "                self.swap(parent, idx)\n",
    "                idx = parent\n",
    "            else:\n",
    "                break\n",
    "\n",
    "    def heapify(self, pos) -> None:\n",
    "        idx = pos\n",
    "        # Going till it is not a leave node\n",
    "        while 2 * idx <= self.size:\n",
    "            g = idx\n",
    "            left = 2 * idx\n",
    "            right = 2 * idx + 1\n",
    "            # Comparing root with left \n",
    "            if self.compare(self.heap[idx], self.heap[left]):\n",
    "                g = left\n",
    "\n",
    "            # Comparing left with right \n",
    "            if right <= self.size and self.compare(self.heap[g], self.heap[right]):\n",
    "                g = right\n",
    "            \n",
    "            # Current node is at actual position (nop swap required)\n",
    "            if g == idx:\n",
    "                break\n",
    "\n",
    "            self.swap(g, idx)\n",
    "            idx = g\n",
    "\n",
    "    def remove(self) -> int:\n",
    "        self.swap(1, self.size)\n",
    "        self.size -= 1\n",
    "        self.heapify(1)\n",
    "\n",
    "        return self.heap[self.size + 1]\n",
    "\n",
    "    def print(self) -> None:\n",
    "        print(\"Heap is: \")\n",
    "        for i in range(1, self.size+1):\n",
    "            print(self.heap[i],)\n",
    "        print(\"\\n==============\")\n",
    "\n",
    "\n",
    "if __name__ == \"__main__\":\n",
    "    heap = Heap(10)\n",
    "    heap.insert(10)\n",
    "    heap.insert(20)\n",
    "    heap.insert(30)\n",
    "    heap.insert(25)\n",
    "    heap.insert(35)\n",
    "\n",
    "    print(\"greast element is: \" + str(heap.remove()))\n",
    "    # heap.remove()\n",
    "    heap.print()\n"
   ]
  },
  {
   "cell_type": "code",
   "execution_count": null,
   "metadata": {},
   "outputs": [],
   "source": []
  },
  {
   "cell_type": "code",
   "execution_count": 11,
   "metadata": {},
   "outputs": [
    {
     "name": "stdout",
     "output_type": "stream",
     "text": [
      "[0, 7, 6, 5, 2, 4, 3]\n",
      "sorted array\n",
      "[0, 6, 4, 5, 2, 3, 7]\n",
      "sorted array\n",
      "[0, 5, 4, 3, 2, 6, 7]\n",
      "sorted array\n",
      "[0, 4, 2, 3, 5, 6, 7]\n",
      "sorted array\n",
      "[0, 3, 2, 4, 5, 6, 7]\n",
      "sorted array\n",
      "[0, 2, 3, 4, 5, 6, 7]\n",
      "sorted array\n",
      "[0, 2, 3, 4, 5, 6, 7]\n"
     ]
    }
   ],
   "source": [
    "def swap(arr, idx1, idx2):\n",
    "    arr[idx1], arr[idx2] = arr[idx2], arr[idx1]\n",
    "    \n",
    "def heapify(arr, n, pos):\n",
    "    idx = pos\n",
    "    while 2 * idx <= n:\n",
    "        g = idx\n",
    "        left = 2 * idx\n",
    "        right = 2 * idx + 1\n",
    "        if arr[idx] < arr[left]:\n",
    "            g = left\n",
    "        if right <= n and arr[right] > arr[g]:\n",
    "            g = right\n",
    "\n",
    "        if g == idx:\n",
    "            break\n",
    "\n",
    "        swap(arr, g, idx)\n",
    "        idx = g\n",
    "\n",
    "\n",
    "\n",
    "if __name__ == \"__main__\":\n",
    "    arr = [0,4,2,3,7,6,5]\n",
    "    n = 6\n",
    "\n",
    "    for i in range(n, 0, -1):\n",
    "        heapify(arr, n, i)\n",
    "\n",
    "    # arr is max heap?\n",
    "    print(arr)\n",
    "\n",
    "\n",
    "    # heap sort algo\n",
    "\n",
    "    for i in range(n, 0, -1):\n",
    "        swap(arr, 1,i)\n",
    "        heapify(arr, i-1, 1)\n",
    "        print(\"sorted array\")\n",
    "        print(arr)"
   ]
  },
  {
   "cell_type": "code",
   "execution_count": null,
   "metadata": {},
   "outputs": [],
   "source": []
  },
  {
   "cell_type": "code",
   "execution_count": null,
   "metadata": {},
   "outputs": [],
   "source": []
  },
  {
   "cell_type": "code",
   "execution_count": null,
   "metadata": {},
   "outputs": [],
   "source": []
  },
  {
   "cell_type": "code",
   "execution_count": null,
   "metadata": {},
   "outputs": [],
   "source": []
  },
  {
   "cell_type": "code",
   "execution_count": null,
   "metadata": {},
   "outputs": [],
   "source": []
  },
  {
   "cell_type": "code",
   "execution_count": null,
   "metadata": {},
   "outputs": [],
   "source": []
  },
  {
   "cell_type": "code",
   "execution_count": null,
   "metadata": {},
   "outputs": [],
   "source": []
  },
  {
   "cell_type": "code",
   "execution_count": null,
   "metadata": {},
   "outputs": [],
   "source": []
  },
  {
   "cell_type": "code",
   "execution_count": null,
   "metadata": {},
   "outputs": [],
   "source": []
  }
 ],
 "metadata": {
  "kernelspec": {
   "display_name": "Python 3",
   "language": "python",
   "name": "python3"
  },
  "language_info": {
   "codemirror_mode": {
    "name": "ipython",
    "version": 3
   },
   "file_extension": ".py",
   "mimetype": "text/x-python",
   "name": "python",
   "nbconvert_exporter": "python",
   "pygments_lexer": "ipython3",
   "version": "3.9.6"
  }
 },
 "nbformat": 4,
 "nbformat_minor": 2
}
