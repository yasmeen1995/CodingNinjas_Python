{
 "cells": [
  {
   "cell_type": "code",
   "execution_count": 1,
   "metadata": {},
   "outputs": [],
   "source": [
    "class BinaryTreeNode:\n",
    "    def __init__(self, data):\n",
    "        self.data = data\n",
    "        self.left = None\n",
    "        self.right = None\n",
    "\n"
   ]
  },
  {
   "cell_type": "code",
   "execution_count": 4,
   "metadata": {},
   "outputs": [],
   "source": [
    "def printTreeDetailed(root):\n",
    "    if root == None:\n",
    "        return\n",
    "    print(root.data, end =\":\")\n",
    "    if root.left != None:\n",
    "        print(\"L\", root.left.data, end = \", \")\n",
    "    if root.right != None:\n",
    "        print(\"R\", root.right.data, end = \"\")\n",
    "    print()\n",
    "    printTreeDetailed(root.left)\n",
    "    printTreeDetailed(root.right)\n",
    "\n"
   ]
  },
  {
   "cell_type": "code",
   "execution_count": 5,
   "metadata": {},
   "outputs": [],
   "source": [
    "import queue\n",
    "def takeLevelWiseTreeInput():\n",
    "    q = queue.Queue()\n",
    "    print(\"Enter root\")\n",
    "    rootData = int(input())\n",
    "    if rootData == -1:\n",
    "        return None\n",
    "    root = BinaryTreeNode(rootData)\n",
    "    q.put(root)\n",
    "    while (not(q.empty())):\n",
    "        current_node = q.get()\n",
    "        print(\"Enter left child of \", current_node.data)\n",
    "        leftChildData = int(input())\n",
    "        if leftChildData != -1:\n",
    "            leftChild = BinaryTreeNode(leftChildData)\n",
    "            current_node.left = leftChild\n",
    "            q.put(leftChild)\n",
    "\n",
    "        print(\"Enter right child of \", current_node.data)\n",
    "        rightChildData = int(input())\n",
    "        if rightChildData != -1:\n",
    "            rightChild = BinaryTreeNode(rightChildData)\n",
    "            current_node.right = rightChild\n",
    "            q.put(rightChild)\n",
    "    return root"
   ]
  },
  {
   "cell_type": "markdown",
   "metadata": {},
   "source": [
    "### Search in Binary Tree"
   ]
  },
  {
   "cell_type": "code",
   "execution_count": 6,
   "metadata": {},
   "outputs": [],
   "source": [
    "def searchInBST(root, k):\n",
    "    #############################\n",
    "    # PLEASE ADD YOUR CODE HERE #\n",
    "    #############################\n",
    "    if root == None:\n",
    "        return False\n",
    "    \n",
    "    if root.data == k:\n",
    "        return True\n",
    "\n",
    "    if root.data > k:\n",
    "        return searchInBST(root.left, k)\n",
    "\n",
    "    if root.data <= k:\n",
    "        return searchInBST(root.right, k)"
   ]
  },
  {
   "cell_type": "code",
   "execution_count": 10,
   "metadata": {},
   "outputs": [
    {
     "name": "stdout",
     "output_type": "stream",
     "text": [
      "Enter root\n",
      "Enter left child of  4\n",
      "Enter right child of  4\n",
      "Enter left child of  2\n",
      "Enter right child of  2\n",
      "Enter left child of  6\n",
      "Enter right child of  6\n",
      "Enter left child of  1\n",
      "Enter right child of  1\n",
      "Enter left child of  3\n",
      "Enter right child of  3\n",
      "Enter left child of  5\n",
      "Enter right child of  5\n",
      "Enter left child of  7\n",
      "Enter right child of  7\n",
      "4:L 2, R 6\n",
      "2:L 1, R 3\n",
      "1:\n",
      "3:\n",
      "6:L 5, R 7\n",
      "5:\n",
      "7:\n"
     ]
    },
    {
     "data": {
      "text/plain": [
       "False"
      ]
     },
     "execution_count": 10,
     "metadata": {},
     "output_type": "execute_result"
    }
   ],
   "source": [
    "root = takeLevelWiseTreeInput()\n",
    "printTreeDetailed(root)\n",
    "searchInBST(root, 9)"
   ]
  },
  {
   "cell_type": "markdown",
   "metadata": {},
   "source": [
    "### Element in btw k1 & k2"
   ]
  },
  {
   "cell_type": "code",
   "execution_count": 12,
   "metadata": {},
   "outputs": [],
   "source": [
    "def elementsInRangeK1K2(root, k1, k2):\n",
    "    #############################\n",
    "    # PLEASE ADD YOUR CODE HERE #\n",
    "    #############################\n",
    "    if root is None:\n",
    "        return\n",
    "\n",
    "    if root.data < k1:\n",
    "        elementsInRangeK1K2(root.right, k1, k2)\n",
    "    elif root.data > k2:\n",
    "        elementsInRangeK1K2(root.left, k1, k2)\n",
    "    else:\n",
    "        elementsInRangeK1K2(root.left, k1, k2) \n",
    "        print(root.data, end =\" \")\n",
    "        elementsInRangeK1K2(root.right, k1, k2)"
   ]
  },
  {
   "cell_type": "code",
   "execution_count": 13,
   "metadata": {},
   "outputs": [
    {
     "name": "stdout",
     "output_type": "stream",
     "text": [
      "Enter root\n",
      "Enter left child of  4\n",
      "Enter right child of  4\n",
      "Enter left child of  2\n",
      "Enter right child of  2\n",
      "Enter left child of  10\n",
      "Enter right child of  10\n",
      "Enter left child of  1\n",
      "Enter right child of  1\n",
      "Enter left child of  3\n",
      "Enter right child of  3\n",
      "Enter left child of  7\n",
      "Enter right child of  7\n",
      "Enter left child of  12\n",
      "Enter right child of  12\n",
      "Enter left child of  5\n",
      "Enter right child of  5\n",
      "Enter left child of  6\n",
      "Enter right child of  6\n",
      "Enter left child of  11\n",
      "Enter right child of  11\n",
      "Enter left child of  18\n",
      "Enter right child of  18\n",
      "4:L 2, R 10\n",
      "2:L 1, R 3\n",
      "1:\n",
      "3:\n",
      "10:L 7, R 12\n",
      "7:L 5, R 6\n",
      "5:\n",
      "6:\n",
      "12:L 11, R 18\n",
      "11:\n",
      "18:\n",
      "5 7 6 10 "
     ]
    }
   ],
   "source": [
    "root = takeLevelWiseTreeInput()\n",
    "printTreeDetailed(root)\n",
    "elementsInRangeK1K2(root, 5, 10)"
   ]
  },
  {
   "cell_type": "code",
   "execution_count": null,
   "metadata": {},
   "outputs": [],
   "source": []
  },
  {
   "cell_type": "markdown",
   "metadata": {},
   "source": [
    "### Is BST\n"
   ]
  },
  {
   "cell_type": "markdown",
   "metadata": {},
   "source": [
    "Time Complexity of below: \n",
    "\n",
    "For Balanced -- O(NLogN) and For UnBalanced -- O(N)"
   ]
  },
  {
   "cell_type": "code",
   "execution_count": 14,
   "metadata": {},
   "outputs": [],
   "source": [
    "def minTree(root):\n",
    "    if root == None:\n",
    "        return 100000000 #Positive infi\n",
    "    leftMin = minTree(root.left)\n",
    "    rightMin = minTree(root.right)\n",
    "    return min(leftMin, rightMin, root.data)"
   ]
  },
  {
   "cell_type": "code",
   "execution_count": 15,
   "metadata": {},
   "outputs": [],
   "source": [
    "def maxTree(root):\n",
    "    if root == None:\n",
    "        return -100000000 #Negative infi\n",
    "    leftMax = maxTree(root.left)\n",
    "    rightMax = maxTree(root.right)\n",
    "    return max(leftMax, rightMax, root.data)"
   ]
  },
  {
   "cell_type": "code",
   "execution_count": 19,
   "metadata": {},
   "outputs": [],
   "source": [
    "def isBST(root):\n",
    "    if root == None:\n",
    "        return True\n",
    "    leftMax = maxTree(root.left)\n",
    "    rightMin = minTree(root.right)\n",
    "    if root.data > rightMin or root.data <= leftMax:\n",
    "        return False\n",
    "    \n",
    "    isLeftBST = isBST(root.left)\n",
    "    isRightBST = isBST(root.right)\n",
    "    return isLeftBST and isRightBST"
   ]
  },
  {
   "cell_type": "code",
   "execution_count": 22,
   "metadata": {},
   "outputs": [
    {
     "name": "stdout",
     "output_type": "stream",
     "text": [
      "Enter root\n",
      "Enter left child of  4\n",
      "Enter right child of  4\n",
      "Enter left child of  2\n",
      "Enter right child of  2\n",
      "Enter left child of  6\n",
      "Enter right child of  6\n",
      "Enter left child of  1\n",
      "Enter right child of  1\n",
      "Enter left child of  10\n",
      "Enter right child of  10\n",
      "Enter left child of  5\n",
      "Enter right child of  5\n",
      "Enter left child of  7\n",
      "Enter right child of  7\n",
      "4:L 2, R 6\n",
      "2:L 1, R 10\n",
      "1:\n",
      "10:\n",
      "6:L 5, R 7\n",
      "5:\n",
      "7:\n"
     ]
    },
    {
     "data": {
      "text/plain": [
       "False"
      ]
     },
     "execution_count": 22,
     "metadata": {},
     "output_type": "execute_result"
    }
   ],
   "source": [
    "root = takeLevelWiseTreeInput()\n",
    "printTreeDetailed(root)\n",
    "isBST(root)\n"
   ]
  },
  {
   "cell_type": "markdown",
   "metadata": {},
   "source": [
    "#### Improved Solution for  Is BST?"
   ]
  },
  {
   "cell_type": "markdown",
   "metadata": {},
   "source": [
    "Time Complexity of below: \n",
    "\n",
    "For Both Balanced and For UnBalanced -- O(N)"
   ]
  },
  {
   "cell_type": "code",
   "execution_count": 23,
   "metadata": {},
   "outputs": [],
   "source": [
    "def isBST2(root):\n",
    "    if root == None:\n",
    "        return 1000000, -1000000, True\n",
    "\n",
    "    leftMin, leftMax, isLeftBST = isBST2(root.left)\n",
    "    rightMin, rightMax, isRightBST = isBST2(root.right)\n",
    "\n",
    "    minimum = min(leftMin, rightMin, root.data)\n",
    "    maximum = max(leftMax, rightMax, root.data)\n",
    "    isTreeBST = True\n",
    "    if root.data <= leftMax or root.data > rightMin:\n",
    "        isTreeBST = False\n",
    "    if not(isLeftBST) or not(isRightBST):\n",
    "        isTreeBST = False\n",
    "\n",
    "    return minimum, maximum, isTreeBST\n"
   ]
  },
  {
   "cell_type": "code",
   "execution_count": 25,
   "metadata": {},
   "outputs": [
    {
     "name": "stdout",
     "output_type": "stream",
     "text": [
      "Enter root\n",
      "Enter left child of  4\n",
      "Enter right child of  4\n",
      "Enter left child of  2\n",
      "Enter right child of  2\n",
      "Enter left child of  6\n",
      "Enter right child of  6\n",
      "Enter left child of  1\n",
      "Enter right child of  1\n",
      "Enter left child of  30\n",
      "Enter right child of  30\n",
      "Enter left child of  5\n",
      "Enter right child of  5\n",
      "Enter left child of  7\n",
      "Enter right child of  7\n",
      "4:L 2, R 6\n",
      "2:L 1, R 30\n",
      "1:\n",
      "30:\n",
      "6:L 5, R 7\n",
      "5:\n",
      "7:\n"
     ]
    },
    {
     "data": {
      "text/plain": [
       "(1, 30, False)"
      ]
     },
     "execution_count": 25,
     "metadata": {},
     "output_type": "execute_result"
    }
   ],
   "source": [
    "root = takeLevelWiseTreeInput()\n",
    "printTreeDetailed(root)\n",
    "isBST2(root)\n"
   ]
  },
  {
   "cell_type": "markdown",
   "metadata": {},
   "source": [
    "### Another Improved Solution"
   ]
  },
  {
   "cell_type": "code",
   "execution_count": 26,
   "metadata": {},
   "outputs": [],
   "source": [
    "def isBST3(root, min_range, max_range):\n",
    "    if root == None:\n",
    "        return True\n",
    "\n",
    "    if root.data <= min_range or root.data > max_range:\n",
    "        return False\n",
    "     \n",
    "    isLeftWithinConstraints = isBST3(root.left, min_range, root.data-1)\n",
    "    isRightWithinConstraints = isBST3(root.right, root.data, max_range)\n",
    "\n",
    "    return isLeftWithinConstraints and isRightWithinConstraints\n"
   ]
  },
  {
   "cell_type": "code",
   "execution_count": 29,
   "metadata": {},
   "outputs": [
    {
     "name": "stdout",
     "output_type": "stream",
     "text": [
      "Enter root\n",
      "Enter left child of  4\n",
      "Enter right child of  4\n",
      "Enter left child of  2\n",
      "Enter right child of  2\n",
      "Enter left child of  6\n",
      "Enter right child of  6\n",
      "Enter left child of  1\n",
      "Enter right child of  1\n",
      "Enter left child of  30\n",
      "Enter right child of  30\n",
      "Enter left child of  5\n",
      "Enter right child of  5\n",
      "Enter left child of  7\n",
      "Enter right child of  7\n",
      "4:L 2, R 6\n",
      "2:L 1, R 30\n",
      "1:\n",
      "30:\n",
      "6:L 5, R 7\n",
      "5:\n",
      "7:\n"
     ]
    },
    {
     "data": {
      "text/plain": [
       "False"
      ]
     },
     "execution_count": 29,
     "metadata": {},
     "output_type": "execute_result"
    }
   ],
   "source": [
    "root = takeLevelWiseTreeInput()\n",
    "printTreeDetailed(root)\n",
    "isBST3(root, -100000, 100000)\n"
   ]
  },
  {
   "cell_type": "code",
   "execution_count": null,
   "metadata": {},
   "outputs": [],
   "source": []
  },
  {
   "cell_type": "code",
   "execution_count": null,
   "metadata": {},
   "outputs": [],
   "source": []
  },
  {
   "cell_type": "code",
   "execution_count": null,
   "metadata": {},
   "outputs": [],
   "source": []
  }
 ],
 "metadata": {
  "kernelspec": {
   "display_name": "Python 3",
   "language": "python",
   "name": "python3"
  },
  "language_info": {
   "codemirror_mode": {
    "name": "ipython",
    "version": 3
   },
   "file_extension": ".py",
   "mimetype": "text/x-python",
   "name": "python",
   "nbconvert_exporter": "python",
   "pygments_lexer": "ipython3",
   "version": "3.9.6"
  }
 },
 "nbformat": 4,
 "nbformat_minor": 2
}
