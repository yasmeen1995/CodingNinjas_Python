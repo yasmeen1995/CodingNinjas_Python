{
 "cells": [
  {
   "cell_type": "code",
   "execution_count": 63,
   "metadata": {},
   "outputs": [],
   "source": [
    "class BinaryTreeNode:\n",
    "    def __init__(self, data):\n",
    "        self.data = data\n",
    "        self.left = None\n",
    "        self.right = None\n",
    "\n"
   ]
  },
  {
   "cell_type": "code",
   "execution_count": 64,
   "metadata": {},
   "outputs": [],
   "source": [
    "def printTree(root):\n",
    "    if root == None:\n",
    "        return\n",
    "    print(root.data)\n",
    "    printTree(root.left)\n",
    "    printTree(root.right)\n"
   ]
  },
  {
   "cell_type": "code",
   "execution_count": 66,
   "metadata": {},
   "outputs": [],
   "source": [
    "def printTreeDetailed(root):\n",
    "    if root == None:\n",
    "        return\n",
    "    print(root.data, end =\":\")\n",
    "    if root.left != None:\n",
    "        print(\"L\", root.left.data, end = \", \")\n",
    "    if root.right != None:\n",
    "        print(\"R\", root.right.data, end = \"\")\n",
    "    print()\n",
    "    printTreeDetailed(root.left)\n",
    "    printTreeDetailed(root.right)\n",
    "\n"
   ]
  },
  {
   "cell_type": "code",
   "execution_count": 4,
   "metadata": {},
   "outputs": [],
   "source": [
    "btn1 = BinaryTreeNode(1)\n",
    "btn2 = BinaryTreeNode(2)\n",
    "btn3 = BinaryTreeNode(3)\n",
    "\n",
    "btn4 = BinaryTreeNode(4)\n",
    "btn5 = BinaryTreeNode(5)\n",
    "\n",
    "\n",
    "# For making connection:\n",
    "btn1.left = btn2\n",
    "btn1.right = btn3\n",
    "btn2.left = btn4\n",
    "btn2.right = btn5\n"
   ]
  },
  {
   "cell_type": "code",
   "execution_count": 5,
   "metadata": {},
   "outputs": [
    {
     "name": "stdout",
     "output_type": "stream",
     "text": [
      "1:L 2, R 3\n",
      "2:L 4, R 5\n",
      "4:\n",
      "5:\n",
      "3:\n"
     ]
    }
   ],
   "source": [
    "printTreeDetailed(btn1)"
   ]
  },
  {
   "cell_type": "code",
   "execution_count": 67,
   "metadata": {},
   "outputs": [],
   "source": [
    "def treeInput():\n",
    "    rootData = int(input())\n",
    "    if rootData == -1:\n",
    "        return None\n",
    "\n",
    "    root = BinaryTreeNode(rootData)\n",
    "    leftTree = treeInput()\n",
    "    rightTree = treeInput()\n",
    "    root.left = leftTree\n",
    "    root.right = rightTree\n",
    "    return root\n"
   ]
  },
  {
   "cell_type": "code",
   "execution_count": null,
   "metadata": {},
   "outputs": [],
   "source": []
  },
  {
   "cell_type": "markdown",
   "metadata": {},
   "source": [
    "### Binary Tree2 - 6-Mar-2024"
   ]
  },
  {
   "cell_type": "code",
   "execution_count": 68,
   "metadata": {},
   "outputs": [],
   "source": [
    "def removeLeaves(root):\n",
    "    if root == None:\n",
    "        return None\n",
    "    # checking if root itself a leave\n",
    "    if root.left == None and root.right == None:\n",
    "        return None\n",
    "    removeLeaves(root.left)\n",
    "    removeLeaves(root.right)\n",
    "    return root\n",
    "  \n"
   ]
  },
  {
   "cell_type": "code",
   "execution_count": 21,
   "metadata": {},
   "outputs": [
    {
     "name": "stdout",
     "output_type": "stream",
     "text": [
      "1:L 2, R 3\n",
      "2:\n",
      "3:\n",
      "1:L 2, R 3\n",
      "2:\n",
      "3:\n"
     ]
    }
   ],
   "source": [
    "root = treeInput()\n",
    "printTreeDetailed(root)\n",
    "root = removeLeaves(root)\n",
    "printTreeDetailed(root)"
   ]
  },
  {
   "cell_type": "code",
   "execution_count": 42,
   "metadata": {},
   "outputs": [],
   "source": [
    "def removeLeaves2(root):\n",
    "    if root == None:\n",
    "        return None\n",
    "    # checking if root itself a leave\n",
    "    if root.left == None and root.right == None:\n",
    "        return None\n",
    "\n",
    "    root.left = removeLeaves2(root.left)\n",
    "    root.right = removeLeaves2(root.right)\n",
    "    return root"
   ]
  },
  {
   "cell_type": "code",
   "execution_count": 35,
   "metadata": {},
   "outputs": [
    {
     "name": "stdout",
     "output_type": "stream",
     "text": [
      "1:L 2, R 3\n",
      "2:R 5\n",
      "5:\n",
      "3:\n"
     ]
    }
   ],
   "source": [
    "root = treeInput()\n",
    "# printTreeDetailed(root)\n",
    "root1 = removeLeaves2(root)\n",
    "printTreeDetailed(root1)\n",
    "# 1\n",
    "# 2\n",
    "# 4\n",
    "# -1\n",
    "# -1\n",
    "# 5\n",
    "# 8\n",
    "# -1\n",
    "# -1\n",
    "# 9\n",
    "# -1\n",
    "# -1\n",
    "# 3\n",
    "# 6\n",
    "# -1\n",
    "# -1\n",
    "# 7\n",
    "# -1\n",
    "# -1"
   ]
  },
  {
   "cell_type": "markdown",
   "metadata": {},
   "source": [
    "### Is Tree Balanced?"
   ]
  },
  {
   "cell_type": "code",
   "execution_count": 43,
   "metadata": {},
   "outputs": [],
   "source": [
    "def height(root):\n",
    "    if root is None:\n",
    "        return 0\n",
    "\n",
    "    return 1 + max(height(root.left), height(root.right))"
   ]
  },
  {
   "cell_type": "code",
   "execution_count": 69,
   "metadata": {},
   "outputs": [],
   "source": [
    "def isBalanced(root):\n",
    "    if root is None:\n",
    "        return True\n",
    "\n",
    "    left_height = height(root.left)\n",
    "    right_height = height(root.right)\n",
    "\n",
    "    if left_height - right_height > 1 or right_height - left_height > 1:\n",
    "        return False\n",
    "\n",
    "    isLeftBalanaced = isBalanced(root.left)\n",
    "    isRightBalanaced = isBalanced(root.right)\n",
    "    if isLeftBalanaced and isRightBalanaced:\n",
    "        return True\n",
    "    else:\n",
    "        return False\n"
   ]
  },
  {
   "cell_type": "code",
   "execution_count": 48,
   "metadata": {},
   "outputs": [
    {
     "name": "stdout",
     "output_type": "stream",
     "text": [
      "1:L 2, R 3\n",
      "2:\n",
      "3:\n",
      "True\n"
     ]
    }
   ],
   "source": [
    "root = treeInput()\n",
    "printTreeDetailed(root)\n",
    "print(isBalanced(root))\n",
    "\n",
    "# 1\n",
    "# 2\n",
    "# 4\n",
    "# 6\n",
    "# -1\n",
    "# -1\n",
    "# -1\n",
    "# -1\n",
    "# 3\n",
    "# -1\n",
    "# 5\n",
    "# -1\n",
    "# -1"
   ]
  },
  {
   "cell_type": "code",
   "execution_count": null,
   "metadata": {},
   "outputs": [],
   "source": []
  },
  {
   "cell_type": "code",
   "execution_count": 70,
   "metadata": {},
   "outputs": [],
   "source": [
    "def getHeightAndCheckBalanced(root):\n",
    "    if root is None:\n",
    "        return 0, True\n",
    "\n",
    "    left_height, isLeftBalanaced = getHeightAndCheckBalanced(root.left)\n",
    "    right_height, isRightBalanaced = getHeightAndCheckBalanced(root.right)\n",
    "\n",
    "    h = 1 + max(left_height, right_height)\n",
    "\n",
    "    if left_height - right_height > 1 or right_height - left_height > 1:\n",
    "        return h, False\n",
    "\n",
    "    if isLeftBalanaced and isRightBalanaced:\n",
    "        return h, True\n",
    "    else:\n",
    "        return h, False"
   ]
  },
  {
   "cell_type": "code",
   "execution_count": 53,
   "metadata": {},
   "outputs": [
    {
     "name": "stdout",
     "output_type": "stream",
     "text": [
      "1:L 2, R 3\n",
      "2:L 4, \n",
      "4:L 5, \n",
      "5:\n",
      "3:R 6\n",
      "6:\n",
      "(4, False)\n"
     ]
    }
   ],
   "source": [
    "root = treeInput()\n",
    "printTreeDetailed(root)\n",
    "print(getHeightAndCheckBalanced(root))"
   ]
  },
  {
   "cell_type": "code",
   "execution_count": 55,
   "metadata": {},
   "outputs": [],
   "source": [
    "def isBalanced(root):\n",
    "    h, isRootBanalanced = getHeightAndCheckBalanced(root)\n",
    "    return isRootBanalanced"
   ]
  },
  {
   "cell_type": "code",
   "execution_count": 56,
   "metadata": {},
   "outputs": [
    {
     "name": "stdout",
     "output_type": "stream",
     "text": [
      "1:L 2, R 3\n",
      "2:\n",
      "3:\n",
      "True\n"
     ]
    }
   ],
   "source": [
    "root = treeInput()\n",
    "printTreeDetailed(root)\n",
    "print(isBalanced(root))"
   ]
  },
  {
   "cell_type": "code",
   "execution_count": null,
   "metadata": {},
   "outputs": [],
   "source": []
  },
  {
   "cell_type": "markdown",
   "metadata": {},
   "source": [
    "### Diameter of Binary Tree"
   ]
  },
  {
   "cell_type": "code",
   "execution_count": null,
   "metadata": {},
   "outputs": [],
   "source": [
    "def diameterOfBinaryTree2(root) :\n",
    "    def helper(node):\n",
    "        if not node:\n",
    "            return 0, 0  # height, diameter\n",
    "        \n",
    "        left_height, left_diameter = helper(node.left)\n",
    "        right_height, right_diameter = helper(node.right)\n",
    "        \n",
    "        current_height = 1 + max(left_height, right_height)\n",
    "        current_diameter = max(left_height + right_height, left_diameter, right_diameter)\n",
    "\n",
    "        return current_height, current_diameter\n",
    "    \n",
    "    _, diameter = helper(root)\n",
    "    return 1 + diameter"
   ]
  },
  {
   "cell_type": "code",
   "execution_count": 75,
   "metadata": {},
   "outputs": [],
   "source": [
    "def diameterHepler(root):\n",
    "    if root is None:\n",
    "        return 0, 0\n",
    "\n",
    "    leftPair = diameterHepler(root.left)\n",
    "    rightPair = diameterHepler(root.right)\n",
    "\n",
    "    leftDiameter = leftPair.diameter\n",
    "    rightDiameter = rightPair.diameter\n",
    "\n",
    "    diameterFromRoot = leftPair.height + rightPair.height + 1\n",
    "\n",
    "    diameter = max ( leftDiameter, rightDiameter, diameterFromRoot)\n",
    "    height = max(leftPair.height + rightPair.height) + 1\n",
    "\n",
    "    return diameter, height\n",
    "\n",
    "def diameterOfBinaryTree(root) :\n",
    "    diameter, height = diameterHepler(root)\n",
    "    return diameter"
   ]
  },
  {
   "cell_type": "code",
   "execution_count": 77,
   "metadata": {},
   "outputs": [],
   "source": [
    "# root = treeInput()\n",
    "# printTreeDetailed(root)\n",
    "# dia, h = diameterOfBinaryTree(root)\n",
    "# print(dia)"
   ]
  },
  {
   "cell_type": "code",
   "execution_count": null,
   "metadata": {},
   "outputs": [],
   "source": []
  },
  {
   "cell_type": "markdown",
   "metadata": {},
   "source": [
    "### Take levelwise Binary Tree"
   ]
  },
  {
   "cell_type": "code",
   "execution_count": 80,
   "metadata": {},
   "outputs": [],
   "source": [
    "class BinaryTreeNode:\n",
    "    def __init__(self, data):\n",
    "        self.data = data\n",
    "        self.left = None\n",
    "        self.right = None\n",
    "\n"
   ]
  },
  {
   "cell_type": "code",
   "execution_count": 81,
   "metadata": {},
   "outputs": [],
   "source": [
    "def printTreeDetailed(root):\n",
    "    if root == None:\n",
    "        return\n",
    "    print(root.data, end =\":\")\n",
    "    if root.left != None:\n",
    "        print(\"L\", root.left.data, end = \", \")\n",
    "    if root.right != None:\n",
    "        print(\"R\", root.right.data, end = \"\")\n",
    "    print()\n",
    "    printTreeDetailed(root.left)\n",
    "    printTreeDetailed(root.right)\n",
    "\n"
   ]
  },
  {
   "cell_type": "code",
   "execution_count": 78,
   "metadata": {},
   "outputs": [],
   "source": [
    "import queue\n",
    "def takeLevelWiseTreeInput():\n",
    "    q = queue.Queue()\n",
    "    print(\"Enter root\")\n",
    "    rootData = int(input())\n",
    "    if rootData == -1:\n",
    "        return None\n",
    "    root = BinaryTreeNode(rootData)\n",
    "    q.put(root)\n",
    "    while (not(q.empty())):\n",
    "        current_node = q.get()\n",
    "        print(\"Enter left child of \", current_node.data)\n",
    "        leftChildData = int(input())\n",
    "        if leftChildData != -1:\n",
    "            leftChild = BinaryTreeNode(leftChildData)\n",
    "            current_node.left = leftChild\n",
    "            q.put(leftChild)\n",
    "\n",
    "        print(\"Enter right child of \", current_node.data)\n",
    "        rightChildData = int(input())\n",
    "        if rightChildData != -1:\n",
    "            rightChild = BinaryTreeNode(rightChildData)\n",
    "            current_node.right = rightChild\n",
    "            q.put(rightChild)\n",
    "    return root"
   ]
  },
  {
   "cell_type": "code",
   "execution_count": 79,
   "metadata": {},
   "outputs": [
    {
     "name": "stdout",
     "output_type": "stream",
     "text": [
      "Enter root\n",
      "Enter left child of  1\n",
      "Enter right child of  1\n",
      "Enter left child of  2\n",
      "Enter right child of  2\n",
      "Enter left child of  3\n",
      "Enter right child of  3\n",
      "1:L 2, R 3\n",
      "2:\n",
      "3:\n"
     ]
    }
   ],
   "source": [
    "root = takeLevelWiseTreeInput()\n",
    "printTreeDetailed(root)"
   ]
  },
  {
   "cell_type": "markdown",
   "metadata": {},
   "source": [
    "### Printing Levelwise"
   ]
  },
  {
   "cell_type": "code",
   "execution_count": 84,
   "metadata": {},
   "outputs": [],
   "source": [
    "import queue\n",
    "\n",
    "def printLevelWise(root):\n",
    "    # Your code goes here\n",
    "    if root == None:\n",
    "        return \n",
    "\n",
    "    q = queue.Queue()\n",
    "\n",
    "    if root.data != -1:\n",
    "        q.put(root)\n",
    "    \n",
    "    while (not(q.empty())):\n",
    "        current_root = q.get()\n",
    "        print(current_root.data, end= \":\")\n",
    "\n",
    "        if current_root.left != None:\n",
    "            print(\"L:\"+str(current_root.left.data), end = \",\")\n",
    "            q.put(current_root.left)\n",
    "        \n",
    "        if current_root.left == None:\n",
    "            print(\"L:\" +str(-1), end = \",\")\n",
    "\n",
    "        if current_root.right != None:\n",
    "            print(\"R:\"+str(current_root.right.data))\n",
    "            q.put(current_root.right)\n",
    "        if current_root.right == None:\n",
    "            print(\"R:\" + str(-1))"
   ]
  },
  {
   "cell_type": "code",
   "execution_count": 86,
   "metadata": {},
   "outputs": [
    {
     "name": "stdout",
     "output_type": "stream",
     "text": [
      "Enter root\n",
      "Enter left child of  1\n",
      "Enter right child of  1\n",
      "Enter left child of  2\n",
      "Enter right child of  2\n",
      "Enter left child of  3\n",
      "Enter right child of  3\n",
      "1:L:2,R:3\n",
      "2:L:-1,R:-1\n",
      "3:L:-1,R:-1\n"
     ]
    }
   ],
   "source": [
    "root = takeLevelWiseTreeInput()\n",
    "printLevelWise(root)"
   ]
  },
  {
   "cell_type": "code",
   "execution_count": null,
   "metadata": {},
   "outputs": [],
   "source": []
  },
  {
   "cell_type": "code",
   "execution_count": 88,
   "metadata": {},
   "outputs": [],
   "source": [
    "\n",
    "def buildTree(preOrder, inOrder, n) :\n",
    "\t#Your code goes here\n",
    "    if len(preOrder) == 0:\n",
    "        return None\n",
    "\n",
    "    rootData = preOrder[0]\n",
    "    root = BinaryTreeNode(rootData)\n",
    "    rootIndexInInorder = -1 \n",
    "\n",
    "    for i in range(len(inOrder)):\n",
    "        if inOrder[i] == rootData:\n",
    "            rootIndexInInorder = i\n",
    "            break\n",
    "\n",
    "    if rootIndexInInorder == -1:\n",
    "        return None\n",
    "\n",
    "    leftInOrder = inOrder[0:rootIndexInInorder]\n",
    "    rightInOrder = inOrder[rootIndexInInorder+1:]\n",
    "\n",
    "    lenLeftSubtree = len(leftInOrder)\n",
    "\n",
    "    leftPreOrder = preOrder[1:lenLeftSubtree+1]\n",
    "    rightPreOrder = preOrder[lenLeftSubtree+1:]\n",
    "\n",
    "    leftChild = buildTree(leftPreOrder, leftInOrder, n)\n",
    "    rightChild = buildTree(rightPreOrder, rightInOrder, n)\n",
    "\n",
    "    # Connection\n",
    "    root.left = leftChild\n",
    "    root.right = rightChild\n",
    "\n",
    "    return root"
   ]
  },
  {
   "cell_type": "code",
   "execution_count": 90,
   "metadata": {},
   "outputs": [
    {
     "name": "stdout",
     "output_type": "stream",
     "text": [
      "1:L 2, R 3\n",
      "2:L 4, R 5\n",
      "4:\n",
      "5:\n",
      "3:L 6, R 7\n",
      "6:\n",
      "7:\n"
     ]
    }
   ],
   "source": [
    "preOrder = [1,2,4,5,3,6,7]\n",
    "inOrder = [4,2,5,1,6,3,7]\n",
    "n = len(inOrder)\n",
    "\n",
    "root = buildTree(preOrder, inOrder, n)\n",
    "printTreeDetailed(root)"
   ]
  },
  {
   "cell_type": "code",
   "execution_count": null,
   "metadata": {},
   "outputs": [],
   "source": []
  }
 ],
 "metadata": {
  "kernelspec": {
   "display_name": "Python 3",
   "language": "python",
   "name": "python3"
  },
  "language_info": {
   "codemirror_mode": {
    "name": "ipython",
    "version": 3
   },
   "file_extension": ".py",
   "mimetype": "text/x-python",
   "name": "python",
   "nbconvert_exporter": "python",
   "pygments_lexer": "ipython3",
   "version": "3.9.6"
  }
 },
 "nbformat": 4,
 "nbformat_minor": 2
}
